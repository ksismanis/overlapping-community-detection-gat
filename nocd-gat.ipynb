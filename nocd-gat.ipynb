{
  "nbformat": 4,
  "nbformat_minor": 0,
  "metadata": {
    "colab": {
      "provenance": [],
      "gpuType": "T4"
    },
    "kernelspec": {
      "name": "python3",
      "display_name": "Python 3"
    },
    "language_info": {
      "name": "python"
    },
    "accelerator": "GPU"
  },
  "cells": [
    {
      "cell_type": "markdown",
      "source": [],
      "metadata": {
        "id": "wc8Jq8EUu0p2"
      }
    },
    {
      "cell_type": "code",
      "execution_count": 1,
      "metadata": {
        "id": "F09VLEbCMcec",
        "colab": {
          "base_uri": "https://localhost:8080/"
        },
        "outputId": "36f16489-4335-4264-ea3d-60fdb44fd550"
      },
      "outputs": [
        {
          "output_type": "stream",
          "name": "stdout",
          "text": [
            "Cloning into 'overlapping-community-detection-gat'...\n",
            "remote: Enumerating objects: 82, done.\u001b[K\n",
            "remote: Counting objects: 100% (34/34), done.\u001b[K\n",
            "remote: Compressing objects: 100% (23/23), done.\u001b[K\n",
            "remote: Total 82 (delta 21), reused 17 (delta 11), pack-reused 48\u001b[K\n",
            "Receiving objects: 100% (82/82), 16.66 MiB | 10.94 MiB/s, done.\n",
            "Resolving deltas: 100% (32/32), done.\n"
          ]
        }
      ],
      "source": [
        "!git clone https://github.com/ksismanis/overlapping-community-detection-gat.git"
      ]
    },
    {
      "cell_type": "code",
      "source": [
        "!ls /content/overlapping-community-detection-gat\n"
      ],
      "metadata": {
        "colab": {
          "base_uri": "https://localhost:8080/"
        },
        "id": "XiZBxItvvHVw",
        "outputId": "a6dc6c3e-ca84-4d90-a771-1874bdbd4d76"
      },
      "execution_count": 5,
      "outputs": [
        {
          "output_type": "stream",
          "name": "stdout",
          "text": [
            "data\t\t   LICENSE  nocd-gat.ipynb  README.md\t      setup.py\n",
            "interactive.ipynb  nocd     nocd-gat.py     requirements.txt\n"
          ]
        }
      ]
    },
    {
      "cell_type": "code",
      "metadata": {
        "outputId": "3844a139-d0ec-4ee5-f1bb-968fcdc21e6a",
        "colab": {
          "base_uri": "https://localhost:8080/"
        },
        "id": "Mwbu5sdBycYV"
      },
      "source": [
        "!pip3 install torch"
      ],
      "execution_count": 6,
      "outputs": [
        {
          "output_type": "stream",
          "name": "stdout",
          "text": [
            "Requirement already satisfied: torch in /usr/local/lib/python3.10/dist-packages (2.3.0+cu121)\n",
            "Requirement already satisfied: filelock in /usr/local/lib/python3.10/dist-packages (from torch) (3.15.1)\n",
            "Requirement already satisfied: typing-extensions>=4.8.0 in /usr/local/lib/python3.10/dist-packages (from torch) (4.12.2)\n",
            "Requirement already satisfied: sympy in /usr/local/lib/python3.10/dist-packages (from torch) (1.12.1)\n",
            "Requirement already satisfied: networkx in /usr/local/lib/python3.10/dist-packages (from torch) (3.3)\n",
            "Requirement already satisfied: jinja2 in /usr/local/lib/python3.10/dist-packages (from torch) (3.1.4)\n",
            "Requirement already satisfied: fsspec in /usr/local/lib/python3.10/dist-packages (from torch) (2023.6.0)\n",
            "Collecting nvidia-cuda-nvrtc-cu12==12.1.105 (from torch)\n",
            "  Using cached nvidia_cuda_nvrtc_cu12-12.1.105-py3-none-manylinux1_x86_64.whl (23.7 MB)\n",
            "Collecting nvidia-cuda-runtime-cu12==12.1.105 (from torch)\n",
            "  Using cached nvidia_cuda_runtime_cu12-12.1.105-py3-none-manylinux1_x86_64.whl (823 kB)\n",
            "Collecting nvidia-cuda-cupti-cu12==12.1.105 (from torch)\n",
            "  Using cached nvidia_cuda_cupti_cu12-12.1.105-py3-none-manylinux1_x86_64.whl (14.1 MB)\n",
            "Collecting nvidia-cudnn-cu12==8.9.2.26 (from torch)\n",
            "  Using cached nvidia_cudnn_cu12-8.9.2.26-py3-none-manylinux1_x86_64.whl (731.7 MB)\n",
            "Collecting nvidia-cublas-cu12==12.1.3.1 (from torch)\n",
            "  Using cached nvidia_cublas_cu12-12.1.3.1-py3-none-manylinux1_x86_64.whl (410.6 MB)\n",
            "Collecting nvidia-cufft-cu12==11.0.2.54 (from torch)\n",
            "  Using cached nvidia_cufft_cu12-11.0.2.54-py3-none-manylinux1_x86_64.whl (121.6 MB)\n",
            "Collecting nvidia-curand-cu12==10.3.2.106 (from torch)\n",
            "  Using cached nvidia_curand_cu12-10.3.2.106-py3-none-manylinux1_x86_64.whl (56.5 MB)\n",
            "Collecting nvidia-cusolver-cu12==11.4.5.107 (from torch)\n",
            "  Using cached nvidia_cusolver_cu12-11.4.5.107-py3-none-manylinux1_x86_64.whl (124.2 MB)\n",
            "Collecting nvidia-cusparse-cu12==12.1.0.106 (from torch)\n",
            "  Using cached nvidia_cusparse_cu12-12.1.0.106-py3-none-manylinux1_x86_64.whl (196.0 MB)\n",
            "Collecting nvidia-nccl-cu12==2.20.5 (from torch)\n",
            "  Using cached nvidia_nccl_cu12-2.20.5-py3-none-manylinux2014_x86_64.whl (176.2 MB)\n",
            "Collecting nvidia-nvtx-cu12==12.1.105 (from torch)\n",
            "  Using cached nvidia_nvtx_cu12-12.1.105-py3-none-manylinux1_x86_64.whl (99 kB)\n",
            "Requirement already satisfied: triton==2.3.0 in /usr/local/lib/python3.10/dist-packages (from torch) (2.3.0)\n",
            "Collecting nvidia-nvjitlink-cu12 (from nvidia-cusolver-cu12==11.4.5.107->torch)\n",
            "  Downloading nvidia_nvjitlink_cu12-12.5.40-py3-none-manylinux2014_x86_64.whl (21.3 MB)\n",
            "\u001b[2K     \u001b[90m━━━━━━━━━━━━━━━━━━━━━━━━━━━━━━━━━━━━━━━━\u001b[0m \u001b[32m21.3/21.3 MB\u001b[0m \u001b[31m60.6 MB/s\u001b[0m eta \u001b[36m0:00:00\u001b[0m\n",
            "\u001b[?25hRequirement already satisfied: MarkupSafe>=2.0 in /usr/local/lib/python3.10/dist-packages (from jinja2->torch) (2.1.5)\n",
            "Requirement already satisfied: mpmath<1.4.0,>=1.1.0 in /usr/local/lib/python3.10/dist-packages (from sympy->torch) (1.3.0)\n",
            "Installing collected packages: nvidia-nvtx-cu12, nvidia-nvjitlink-cu12, nvidia-nccl-cu12, nvidia-curand-cu12, nvidia-cufft-cu12, nvidia-cuda-runtime-cu12, nvidia-cuda-nvrtc-cu12, nvidia-cuda-cupti-cu12, nvidia-cublas-cu12, nvidia-cusparse-cu12, nvidia-cudnn-cu12, nvidia-cusolver-cu12\n",
            "Successfully installed nvidia-cublas-cu12-12.1.3.1 nvidia-cuda-cupti-cu12-12.1.105 nvidia-cuda-nvrtc-cu12-12.1.105 nvidia-cuda-runtime-cu12-12.1.105 nvidia-cudnn-cu12-8.9.2.26 nvidia-cufft-cu12-11.0.2.54 nvidia-curand-cu12-10.3.2.106 nvidia-cusolver-cu12-11.4.5.107 nvidia-cusparse-cu12-12.1.0.106 nvidia-nccl-cu12-2.20.5 nvidia-nvjitlink-cu12-12.5.40 nvidia-nvtx-cu12-12.1.105\n"
          ]
        }
      ]
    },
    {
      "cell_type": "code",
      "source": [
        "!pip install  numpy==1.23.1\n"
      ],
      "metadata": {
        "colab": {
          "base_uri": "https://localhost:8080/",
          "height": 365
        },
        "id": "xM8M8jCY2Lvn",
        "outputId": "8901ea56-5978-4585-e000-ecc52dbf9003"
      },
      "execution_count": 7,
      "outputs": [
        {
          "output_type": "stream",
          "name": "stdout",
          "text": [
            "Collecting numpy==1.23.1\n",
            "  Downloading numpy-1.23.1-cp310-cp310-manylinux_2_17_x86_64.manylinux2014_x86_64.whl (17.0 MB)\n",
            "\u001b[2K     \u001b[90m━━━━━━━━━━━━━━━━━━━━━━━━━━━━━━━━━━━━━━━━\u001b[0m \u001b[32m17.0/17.0 MB\u001b[0m \u001b[31m50.8 MB/s\u001b[0m eta \u001b[36m0:00:00\u001b[0m\n",
            "\u001b[?25hInstalling collected packages: numpy\n",
            "  Attempting uninstall: numpy\n",
            "    Found existing installation: numpy 1.25.2\n",
            "    Uninstalling numpy-1.25.2:\n",
            "      Successfully uninstalled numpy-1.25.2\n",
            "\u001b[31mERROR: pip's dependency resolver does not currently take into account all the packages that are installed. This behaviour is the source of the following dependency conflicts.\n",
            "chex 0.1.86 requires numpy>=1.24.1, but you have numpy 1.23.1 which is incompatible.\n",
            "pandas-stubs 2.0.3.230814 requires numpy>=1.25.0; python_version >= \"3.9\", but you have numpy 1.23.1 which is incompatible.\n",
            "tensorflow 2.15.0 requires numpy<2.0.0,>=1.23.5, but you have numpy 1.23.1 which is incompatible.\u001b[0m\u001b[31m\n",
            "\u001b[0mSuccessfully installed numpy-1.23.1\n"
          ]
        },
        {
          "output_type": "display_data",
          "data": {
            "application/vnd.colab-display-data+json": {
              "pip_warning": {
                "packages": [
                  "numpy"
                ]
              },
              "id": "87641657657c43249b94f6ac983aa4c4"
            }
          },
          "metadata": {}
        }
      ]
    },
    {
      "cell_type": "code",
      "source": [
        "!pip install scipy\n",
        "!pip install torch-geometric"
      ],
      "metadata": {
        "colab": {
          "base_uri": "https://localhost:8080/"
        },
        "id": "aItyct0qymcg",
        "outputId": "0f5a750b-a6b8-4d1c-9f5e-49d9c1822d82"
      },
      "execution_count": 1,
      "outputs": [
        {
          "output_type": "stream",
          "name": "stdout",
          "text": [
            "Requirement already satisfied: scipy in /usr/local/lib/python3.10/dist-packages (1.11.4)\n",
            "Requirement already satisfied: numpy<1.28.0,>=1.21.6 in /usr/local/lib/python3.10/dist-packages (from scipy) (1.23.1)\n",
            "Collecting torch-geometric\n",
            "  Downloading torch_geometric-2.5.3-py3-none-any.whl (1.1 MB)\n",
            "\u001b[2K     \u001b[90m━━━━━━━━━━━━━━━━━━━━━━━━━━━━━━━━━━━━━━━━\u001b[0m \u001b[32m1.1/1.1 MB\u001b[0m \u001b[31m24.0 MB/s\u001b[0m eta \u001b[36m0:00:00\u001b[0m\n",
            "\u001b[?25hRequirement already satisfied: tqdm in /usr/local/lib/python3.10/dist-packages (from torch-geometric) (4.66.4)\n",
            "Requirement already satisfied: numpy in /usr/local/lib/python3.10/dist-packages (from torch-geometric) (1.23.1)\n",
            "Requirement already satisfied: scipy in /usr/local/lib/python3.10/dist-packages (from torch-geometric) (1.11.4)\n",
            "Requirement already satisfied: fsspec in /usr/local/lib/python3.10/dist-packages (from torch-geometric) (2023.6.0)\n",
            "Requirement already satisfied: jinja2 in /usr/local/lib/python3.10/dist-packages (from torch-geometric) (3.1.4)\n",
            "Requirement already satisfied: aiohttp in /usr/local/lib/python3.10/dist-packages (from torch-geometric) (3.9.5)\n",
            "Requirement already satisfied: requests in /usr/local/lib/python3.10/dist-packages (from torch-geometric) (2.31.0)\n",
            "Requirement already satisfied: pyparsing in /usr/local/lib/python3.10/dist-packages (from torch-geometric) (3.1.2)\n",
            "Requirement already satisfied: scikit-learn in /usr/local/lib/python3.10/dist-packages (from torch-geometric) (1.2.2)\n",
            "Requirement already satisfied: psutil>=5.8.0 in /usr/local/lib/python3.10/dist-packages (from torch-geometric) (5.9.5)\n",
            "Requirement already satisfied: aiosignal>=1.1.2 in /usr/local/lib/python3.10/dist-packages (from aiohttp->torch-geometric) (1.3.1)\n",
            "Requirement already satisfied: attrs>=17.3.0 in /usr/local/lib/python3.10/dist-packages (from aiohttp->torch-geometric) (23.2.0)\n",
            "Requirement already satisfied: frozenlist>=1.1.1 in /usr/local/lib/python3.10/dist-packages (from aiohttp->torch-geometric) (1.4.1)\n",
            "Requirement already satisfied: multidict<7.0,>=4.5 in /usr/local/lib/python3.10/dist-packages (from aiohttp->torch-geometric) (6.0.5)\n",
            "Requirement already satisfied: yarl<2.0,>=1.0 in /usr/local/lib/python3.10/dist-packages (from aiohttp->torch-geometric) (1.9.4)\n",
            "Requirement already satisfied: async-timeout<5.0,>=4.0 in /usr/local/lib/python3.10/dist-packages (from aiohttp->torch-geometric) (4.0.3)\n",
            "Requirement already satisfied: MarkupSafe>=2.0 in /usr/local/lib/python3.10/dist-packages (from jinja2->torch-geometric) (2.1.5)\n",
            "Requirement already satisfied: charset-normalizer<4,>=2 in /usr/local/lib/python3.10/dist-packages (from requests->torch-geometric) (3.3.2)\n",
            "Requirement already satisfied: idna<4,>=2.5 in /usr/local/lib/python3.10/dist-packages (from requests->torch-geometric) (3.7)\n",
            "Requirement already satisfied: urllib3<3,>=1.21.1 in /usr/local/lib/python3.10/dist-packages (from requests->torch-geometric) (2.0.7)\n",
            "Requirement already satisfied: certifi>=2017.4.17 in /usr/local/lib/python3.10/dist-packages (from requests->torch-geometric) (2024.6.2)\n",
            "Requirement already satisfied: joblib>=1.1.1 in /usr/local/lib/python3.10/dist-packages (from scikit-learn->torch-geometric) (1.4.2)\n",
            "Requirement already satisfied: threadpoolctl>=2.0.0 in /usr/local/lib/python3.10/dist-packages (from scikit-learn->torch-geometric) (3.5.0)\n",
            "Installing collected packages: torch-geometric\n",
            "Successfully installed torch-geometric-2.5.3\n"
          ]
        }
      ]
    },
    {
      "cell_type": "code",
      "source": [
        "!cp -va /content/overlapping-community-detection-gat/nocd /content"
      ],
      "metadata": {
        "colab": {
          "base_uri": "https://localhost:8080/"
        },
        "id": "BqBmcimA0U8y",
        "outputId": "a8946e5c-666f-4f8a-ba27-45dc17dcb637"
      },
      "execution_count": 8,
      "outputs": [
        {
          "output_type": "stream",
          "name": "stdout",
          "text": [
            "'/content/overlapping-community-detection-gat/nocd' -> '/content/nocd'\n",
            "'/content/overlapping-community-detection-gat/nocd/__init__.py' -> '/content/nocd/__init__.py'\n",
            "'/content/overlapping-community-detection-gat/nocd/data.py' -> '/content/nocd/data.py'\n",
            "'/content/overlapping-community-detection-gat/nocd/generate.py' -> '/content/nocd/generate.py'\n",
            "'/content/overlapping-community-detection-gat/nocd/metrics' -> '/content/nocd/metrics'\n",
            "'/content/overlapping-community-detection-gat/nocd/metrics/__init__.py' -> '/content/nocd/metrics/__init__.py'\n",
            "'/content/overlapping-community-detection-gat/nocd/metrics/supervised.py' -> '/content/nocd/metrics/supervised.py'\n",
            "'/content/overlapping-community-detection-gat/nocd/metrics/unsupervised.py' -> '/content/nocd/metrics/unsupervised.py'\n",
            "'/content/overlapping-community-detection-gat/nocd/nn' -> '/content/nocd/nn'\n",
            "'/content/overlapping-community-detection-gat/nocd/nn/__init__.py' -> '/content/nocd/nn/__init__.py'\n",
            "'/content/overlapping-community-detection-gat/nocd/nn/decoder.py' -> '/content/nocd/nn/decoder.py'\n",
            "'/content/overlapping-community-detection-gat/nocd/nn/gat.py' -> '/content/nocd/nn/gat.py'\n",
            "'/content/overlapping-community-detection-gat/nocd/nn/gcn.py' -> '/content/nocd/nn/gcn.py'\n",
            "'/content/overlapping-community-detection-gat/nocd/nn/imrpoved_gcn.py' -> '/content/nocd/nn/imrpoved_gcn.py'\n",
            "'/content/overlapping-community-detection-gat/nocd/sampler.py' -> '/content/nocd/sampler.py'\n",
            "'/content/overlapping-community-detection-gat/nocd/train.py' -> '/content/nocd/train.py'\n",
            "'/content/overlapping-community-detection-gat/nocd/utils.py' -> '/content/nocd/utils.py'\n"
          ]
        }
      ]
    },
    {
      "cell_type": "code",
      "source": [
        "import os\n",
        "import time\n",
        "import nocd\n",
        "import matplotlib.pyplot as plt\n",
        "import numpy as np\n",
        "import scipy.sparse as sp\n",
        "import torch\n",
        "import torch.nn as nn\n",
        "import torch.nn.functional as F\n",
        "from torch_geometric.nn import GAT\n",
        "from torch_geometric.nn import GCN\n",
        "from torch_geometric.nn import GIN\n",
        "from torch_geometric.nn import GraphSAGE\n",
        "from torch_geometric.nn import SignedGCN\n",
        "from torch_geometric.loader import GraphSAINTRandomWalkSampler\n",
        "import time\n",
        "import statistics\n",
        "\n",
        "from sklearn.preprocessing import normalize\n",
        "\n",
        "device = torch.device(\"cuda:0\")\n",
        "torch.set_default_tensor_type(torch.cuda.FloatTensor)"
      ],
      "metadata": {
        "id": "4IxWqM4zy7Zn"
      },
      "execution_count": 10,
      "outputs": []
    },
    {
      "cell_type": "code",
      "source": [
        "!cp -va  /content/overlapping-community-detection-gat/data /content"
      ],
      "metadata": {
        "colab": {
          "base_uri": "https://localhost:8080/"
        },
        "id": "VMcwGHgs0kIu",
        "outputId": "55cc455d-6fe3-461d-b76f-5ecc85ed69df"
      },
      "execution_count": 11,
      "outputs": [
        {
          "output_type": "stream",
          "name": "stdout",
          "text": [
            "'/content/overlapping-community-detection-gat/data' -> '/content/data'\n",
            "'/content/overlapping-community-detection-gat/data/facebook_ego' -> '/content/data/facebook_ego'\n",
            "'/content/overlapping-community-detection-gat/data/facebook_ego/fb_0.npz' -> '/content/data/facebook_ego/fb_0.npz'\n",
            "'/content/overlapping-community-detection-gat/data/facebook_ego/fb_107.npz' -> '/content/data/facebook_ego/fb_107.npz'\n",
            "'/content/overlapping-community-detection-gat/data/facebook_ego/fb_1684.npz' -> '/content/data/facebook_ego/fb_1684.npz'\n",
            "'/content/overlapping-community-detection-gat/data/facebook_ego/fb_1912.npz' -> '/content/data/facebook_ego/fb_1912.npz'\n",
            "'/content/overlapping-community-detection-gat/data/facebook_ego/fb_3437.npz' -> '/content/data/facebook_ego/fb_3437.npz'\n",
            "'/content/overlapping-community-detection-gat/data/facebook_ego/fb_348.npz' -> '/content/data/facebook_ego/fb_348.npz'\n",
            "'/content/overlapping-community-detection-gat/data/facebook_ego/fb_3980.npz' -> '/content/data/facebook_ego/fb_3980.npz'\n",
            "'/content/overlapping-community-detection-gat/data/facebook_ego/fb_414.npz' -> '/content/data/facebook_ego/fb_414.npz'\n",
            "'/content/overlapping-community-detection-gat/data/facebook_ego/fb_686.npz' -> '/content/data/facebook_ego/fb_686.npz'\n",
            "'/content/overlapping-community-detection-gat/data/facebook_ego/fb_698.npz' -> '/content/data/facebook_ego/fb_698.npz'\n",
            "'/content/overlapping-community-detection-gat/data/mag_chem.npz' -> '/content/data/mag_chem.npz'\n",
            "'/content/overlapping-community-detection-gat/data/mag_cs.npz' -> '/content/data/mag_cs.npz'\n",
            "'/content/overlapping-community-detection-gat/data/mag_eng.npz' -> '/content/data/mag_eng.npz'\n",
            "'/content/overlapping-community-detection-gat/data/mag_med.npz' -> '/content/data/mag_med.npz'\n"
          ]
        }
      ]
    },
    {
      "cell_type": "code",
      "source": [],
      "metadata": {
        "id": "vRalPlBNux1G"
      },
      "execution_count": null,
      "outputs": []
    },
    {
      "cell_type": "code",
      "source": [
        "\n",
        "# f = 'fb384gatA'\n",
        "# loader = nocd.data.load_dataset('/content/overlapping-community-detection-gat/data/facebook_ego/facebook_ego/fb_348.npz')\n",
        "# f = 'fb414gatA'\n",
        "# loader = nocd.data.load_dataset('/content/overlapping-community-detection-gat/data/facebook_ego/fb_414.npz')\n",
        "# f = 'fb686gatA'\n",
        "# loader = nocd.data.load_dataset('/content/overlapping-community-detection-gat/data/facebook_ego/fb_686.npz')\n",
        "# f = 'fb698gcnX'\n",
        "# loader = nocd.data.load_dataset('/content/overlapping-community-detection-gat/data/facebook_ego//fb_698.npz')\n",
        "# f = 'fb1684gcnA'\n",
        "# loader = nocd.data.load_dataset('//content/overlapping-community-detection-gat/data/facebook_ego/fb_1684.npz')\n",
        "# f = 'fb1912gcnA'\n",
        "# loader = nocd.data.load_dataset('/content/overlapping-community-detection-gat/data/facebook_ego/fb_1912.npz')\n",
        "\n",
        "# f= 'mag_chemgatA'\n",
        "# loader = nocd.data.load_dataset('data/mag_chem.npz')\n",
        "f= 'mag_csgatX'\n",
        "loader = nocd.data.load_dataset('data/mag_cs.npz')\n",
        "# f= 'mag_enggatA'\n",
        "# loader = nocd.data.load_dataset('data/mag_eng.npz')\n",
        "# f= 'mag_medgatX'\n",
        "# loader = nocd.data.load_dataset('data/mag_med.npz')\n",
        "\n",
        "A, X, Z_gt = loader['A'], loader['X'], loader['Z']\n",
        "N, K = Z_gt.shape\n",
        "\n",
        "hidden_sizes = [128]    # hidden sizes of the GNN\n",
        "weight_decay = 1e-2     # strength of L2 regularization on GNN weights\n",
        "dropout = 0.5           # whether to use dropout\n",
        "batch_norm = True       # whether to use batch norm\n",
        "lr = 1e-3               # learning rate\n",
        "max_epochs = 500        # number of epochs to train\n",
        "display_step = 25       # how often to compute validation loss\n",
        "balance_loss = True     # whether to use balanced loss\n",
        "stochastic_loss = True  # whether to use stochastic or full-batch training\n",
        "batch_size = 20000      # batch size (only for stochastic training)\n",
        "\n",
        "# batch_size = 20      # batch size (only for stochastic training)\n"
      ],
      "metadata": {
        "id": "LQGr9Tv40zP7"
      },
      "execution_count": 62,
      "outputs": []
    },
    {
      "cell_type": "code",
      "source": [
        "x_norm = normalize(X)  # node features\n",
        "# x_norm = normalize(A)  # adjacency matrix\n",
        "# x_norm = sp.hstack([normalize(X), normalize(A)])  # concatenate A and X\n",
        "x_norm = nocd.utils.to_sparse_tensor(x_norm).cuda()\n",
        "sampler = nocd.sampler.get_edge_sampler(A, batch_size, batch_size, num_workers=5)\n",
        "# gnn = nocd.nn.GCN(x_norm.shape[1], hidden_sizes, K, batch_norm=batch_norm, dropout=dropout).cuda()\n",
        "gnn = nocd.nn.GAT(x_norm.shape[1],hidden_sizes,K,batch_norm=batch_norm,dropout=dropout).cuda()\n",
        "adj_norm = gnn.normalize_adj(A)\n",
        "decoder = nocd.nn.BerpoDecoder(N, A.nnz, balance_loss=balance_loss)\n",
        "opt = torch.optim.Adam(gnn.parameters(), lr=lr)"
      ],
      "metadata": {
        "id": "uElEyx8Z027h",
        "colab": {
          "base_uri": "https://localhost:8080/"
        },
        "outputId": "8d52dea9-fdca-4b02-e348-1316a1d8f45d"
      },
      "execution_count": 63,
      "outputs": [
        {
          "output_type": "stream",
          "name": "stderr",
          "text": [
            "/usr/local/lib/python3.10/dist-packages/torch/utils/data/dataloader.py:558: UserWarning: This DataLoader will create 5 worker processes in total. Our suggested max number of worker in current system is 2, which is smaller than what this DataLoader is going to create. Please be aware that excessive worker creation might get DataLoader running slow or even freeze, lower the worker number to avoid potential slowness/freeze if necessary.\n",
            "  warnings.warn(_create_warning_msg(\n"
          ]
        }
      ]
    },
    {
      "cell_type": "code",
      "source": [
        "def get_nmi(thresh=0.5):\n",
        "    \"\"\"Compute Overlapping NMI of the communities predicted by the GNN.\"\"\"\n",
        "    gnn.eval()\n",
        "    # Z = F.relu(gnn(x_norm, adj_norm))\n",
        "    Z = F.leaky_relu(gnn(x_norm, adj_norm))\n",
        "    Z_pred = Z.cpu().detach().numpy() > thresh\n",
        "    nmi = nocd.metrics.overlapping_nmi(Z_pred, Z_gt)\n",
        "    return nmi\n"
      ],
      "metadata": {
        "id": "l_B6bl7i1AOE"
      },
      "execution_count": 64,
      "outputs": []
    },
    {
      "cell_type": "code",
      "source": [],
      "metadata": {
        "id": "fSLr7W31IkYB"
      },
      "execution_count": 37,
      "outputs": []
    },
    {
      "cell_type": "code",
      "source": [
        "def train():\n",
        "    loss_values=[]\n",
        "    epochs = []\n",
        "    val_loss = np.inf\n",
        "    validation_fn = lambda: val_loss\n",
        "    early_stopping = nocd.train.NoImprovementStopping(validation_fn, patience=5)\n",
        "    model_saver = nocd.train.ModelSaver(gnn)\n",
        "    for epoch, batch in enumerate(sampler):\n",
        "        if epoch > max_epochs:\n",
        "            break\n",
        "        if epoch % 25 == 0:\n",
        "            with torch.no_grad():\n",
        "                gnn.eval()\n",
        "                # Compute validation loss\n",
        "                Z = F.relu(gnn(x_norm, adj_norm))\n",
        "                val_loss = decoder.loss_full(Z, A)\n",
        "                print(f'Epoch {epoch:4d}, loss.full = {val_loss:.4f}, nmi = {get_nmi():.2f}')\n",
        "                loss_values.append(val_loss.cpu())\n",
        "                epochs.append(epoch)\n",
        "                # Check if it's time for early stopping / to save the model\n",
        "                early_stopping.next_step()\n",
        "                if early_stopping.should_save():\n",
        "                    model_saver.save()\n",
        "                if early_stopping.should_stop():\n",
        "                    print(f'Breaking due to early stopping at epoch {epoch}')\n",
        "                    break\n",
        "\n",
        "        # Training step\n",
        "        gnn.train()\n",
        "        opt.zero_grad()\n",
        "        Z = F.relu(gnn(x_norm, adj_norm))\n",
        "        ones_idx, zeros_idx = batch\n",
        "        if stochastic_loss:\n",
        "            loss = decoder.loss_batch(Z, ones_idx, zeros_idx)\n",
        "        else:\n",
        "            loss = decoder.loss_full(Z, A)\n",
        "        loss += nocd.utils.l2_reg_loss(gnn, scale=weight_decay)\n",
        "        loss.backward()\n",
        "        opt.step()\n",
        "\n",
        "    thresh = 0.5\n",
        "    Z = F.relu(gnn(x_norm, adj_norm))\n",
        "    Z_pred = Z.cpu().detach().numpy() > thresh\n",
        "    model_saver.restore()\n",
        "    nmi = get_nmi(thresh)\n",
        "    print(f'Final nmi = {nmi:.3f}')\n",
        "    print(loss_values)\n",
        "    return(nmi, loss_values, epochs)\n"
      ],
      "metadata": {
        "id": "molfHn3C1HcY"
      },
      "execution_count": 65,
      "outputs": []
    },
    {
      "cell_type": "code",
      "source": [
        "res = []\n",
        "times = []\n",
        "for loops in range(50):\n",
        "    print('loop ', loops)\n",
        "    st = time.time()\n",
        "    nmi,loss_values,epochs = train()\n",
        "    et = time.time()\n",
        "    elapsed_time = et  - st\n",
        "    res.append(nmi)\n",
        "    times.append(elapsed_time)\n",
        "    for layer in gnn.layers:\n",
        "            layer.reset_parameters()\n",
        "    if loops > 2:\n",
        "        avg = statistics.mean(res)\n",
        "        sd = statistics.stdev(res)\n",
        "        avg_time  = statistics.mean(times)\n",
        "        print('average nmi after', loops,'is ', avg)\n",
        "        print('standard deviation  nmi  after', loops,'is ', sd)\n",
        "        print('avrate time   after', loops,'is ', avg_time)\n",
        "        print(f'average_wmi for {f} is: {avg:.3f}, time  is {avg_time:.3f} seconds, deviation is:  {sd:.4f}')\n",
        "\n",
        "print(f'final average_wmi for {f} is: {avg:.3f}, time  is {avg_time:.3f} seconds, deviation is:  {sd:.4f}')\n",
        "resultfile = open('gat_6_heads_with_features.txt', \"a\")\n",
        "resultfile.writelines(f' {f} \\t {avg:.3f} \\t {avg_time:.3f}\\t {sd:.3f} \\n')\n",
        "resultfile.close()\n"
      ],
      "metadata": {
        "colab": {
          "base_uri": "https://localhost:8080/"
        },
        "id": "QeJG5ekB2CV7",
        "outputId": "3aa80a0d-755c-4774-f9c0-e0b93de697e6"
      },
      "execution_count": null,
      "outputs": [
        {
          "output_type": "stream",
          "name": "stdout",
          "text": [
            "loop  0\n",
            "Epoch    0, loss.full = 0.6698, nmi = 0.02\n",
            "Epoch   25, loss.full = 0.2862, nmi = 0.40\n",
            "Epoch   50, loss.full = 0.2602, nmi = 0.42\n",
            "Epoch   75, loss.full = 0.2493, nmi = 0.43\n",
            "Epoch  100, loss.full = 0.2480, nmi = 0.43\n",
            "Epoch  125, loss.full = 0.2463, nmi = 0.43\n",
            "Epoch  150, loss.full = 0.2487, nmi = 0.43\n",
            "Epoch  175, loss.full = 0.2422, nmi = 0.43\n",
            "Epoch  200, loss.full = 0.2436, nmi = 0.44\n",
            "Epoch  225, loss.full = 0.2404, nmi = 0.44\n",
            "Epoch  250, loss.full = 0.2400, nmi = 0.44\n",
            "Epoch  275, loss.full = 0.2384, nmi = 0.44\n",
            "Epoch  300, loss.full = 0.2377, nmi = 0.44\n",
            "Epoch  325, loss.full = 0.2447, nmi = 0.41\n",
            "Epoch  350, loss.full = 0.2423, nmi = 0.41\n",
            "Epoch  375, loss.full = 0.2396, nmi = 0.42\n",
            "Epoch  400, loss.full = 0.2376, nmi = 0.43\n",
            "Epoch  425, loss.full = 0.2384, nmi = 0.43\n",
            "Epoch  450, loss.full = 0.2358, nmi = 0.43\n",
            "Epoch  475, loss.full = 0.2380, nmi = 0.44\n",
            "Epoch  500, loss.full = 0.2437, nmi = 0.42\n",
            "Final nmi = 0.435\n",
            "[tensor(0.6698, device='cpu'), tensor(0.2862, device='cpu'), tensor(0.2602, device='cpu'), tensor(0.2493, device='cpu'), tensor(0.2480, device='cpu'), tensor(0.2463, device='cpu'), tensor(0.2487, device='cpu'), tensor(0.2422, device='cpu'), tensor(0.2436, device='cpu'), tensor(0.2404, device='cpu'), tensor(0.2400, device='cpu'), tensor(0.2384, device='cpu'), tensor(0.2377, device='cpu'), tensor(0.2447, device='cpu'), tensor(0.2423, device='cpu'), tensor(0.2396, device='cpu'), tensor(0.2376, device='cpu'), tensor(0.2384, device='cpu'), tensor(0.2358, device='cpu'), tensor(0.2380, device='cpu'), tensor(0.2437, device='cpu')]\n",
            "loop  1\n",
            "Epoch    0, loss.full = 0.6271, nmi = 0.02\n",
            "Epoch   25, loss.full = 0.2869, nmi = 0.43\n",
            "Epoch   50, loss.full = 0.2542, nmi = 0.48\n",
            "Epoch   75, loss.full = 0.2485, nmi = 0.47\n",
            "Epoch  100, loss.full = 0.2415, nmi = 0.47\n",
            "Epoch  125, loss.full = 0.2365, nmi = 0.47\n",
            "Epoch  150, loss.full = 0.2332, nmi = 0.48\n",
            "Epoch  175, loss.full = 0.2366, nmi = 0.45\n",
            "Epoch  200, loss.full = 0.2287, nmi = 0.48\n",
            "Epoch  225, loss.full = 0.2279, nmi = 0.49\n",
            "Epoch  250, loss.full = 0.2284, nmi = 0.48\n",
            "Epoch  275, loss.full = 0.2267, nmi = 0.49\n",
            "Epoch  300, loss.full = 0.2274, nmi = 0.48\n",
            "Epoch  325, loss.full = 0.2267, nmi = 0.49\n",
            "Epoch  350, loss.full = 0.2375, nmi = 0.46\n",
            "Epoch  375, loss.full = 0.2268, nmi = 0.49\n",
            "Epoch  400, loss.full = 0.2261, nmi = 0.49\n",
            "Epoch  425, loss.full = 0.2267, nmi = 0.49\n",
            "Epoch  450, loss.full = 0.2266, nmi = 0.49\n",
            "Epoch  475, loss.full = 0.2255, nmi = 0.49\n",
            "Epoch  500, loss.full = 0.2249, nmi = 0.49\n",
            "Final nmi = 0.488\n",
            "[tensor(0.6271, device='cpu'), tensor(0.2869, device='cpu'), tensor(0.2542, device='cpu'), tensor(0.2485, device='cpu'), tensor(0.2415, device='cpu'), tensor(0.2365, device='cpu'), tensor(0.2332, device='cpu'), tensor(0.2366, device='cpu'), tensor(0.2287, device='cpu'), tensor(0.2279, device='cpu'), tensor(0.2284, device='cpu'), tensor(0.2267, device='cpu'), tensor(0.2274, device='cpu'), tensor(0.2267, device='cpu'), tensor(0.2375, device='cpu'), tensor(0.2268, device='cpu'), tensor(0.2261, device='cpu'), tensor(0.2267, device='cpu'), tensor(0.2266, device='cpu'), tensor(0.2255, device='cpu'), tensor(0.2249, device='cpu')]\n",
            "loop  2\n",
            "Epoch    0, loss.full = 0.6169, nmi = 0.03\n",
            "Epoch   25, loss.full = 0.2852, nmi = 0.35\n",
            "Epoch   50, loss.full = 0.2480, nmi = 0.44\n",
            "Epoch   75, loss.full = 0.2386, nmi = 0.45\n",
            "Epoch  100, loss.full = 0.2407, nmi = 0.44\n",
            "Epoch  125, loss.full = 0.2309, nmi = 0.46\n",
            "Epoch  150, loss.full = 0.2325, nmi = 0.47\n",
            "Epoch  175, loss.full = 0.2283, nmi = 0.46\n",
            "Epoch  200, loss.full = 0.2294, nmi = 0.46\n",
            "Epoch  225, loss.full = 0.2278, nmi = 0.46\n",
            "Epoch  250, loss.full = 0.2258, nmi = 0.45\n",
            "Epoch  275, loss.full = 0.2279, nmi = 0.45\n",
            "Epoch  300, loss.full = 0.2282, nmi = 0.45\n",
            "Epoch  325, loss.full = 0.2247, nmi = 0.46\n",
            "Epoch  350, loss.full = 0.2240, nmi = 0.46\n",
            "Epoch  375, loss.full = 0.2340, nmi = 0.44\n",
            "Epoch  400, loss.full = 0.2252, nmi = 0.47\n",
            "Epoch  425, loss.full = 0.2253, nmi = 0.46\n",
            "Epoch  450, loss.full = 0.2233, nmi = 0.46\n",
            "Epoch  475, loss.full = 0.2269, nmi = 0.46\n",
            "Epoch  500, loss.full = 0.2253, nmi = 0.46\n",
            "Final nmi = 0.464\n",
            "[tensor(0.6169, device='cpu'), tensor(0.2852, device='cpu'), tensor(0.2480, device='cpu'), tensor(0.2386, device='cpu'), tensor(0.2407, device='cpu'), tensor(0.2309, device='cpu'), tensor(0.2325, device='cpu'), tensor(0.2283, device='cpu'), tensor(0.2294, device='cpu'), tensor(0.2278, device='cpu'), tensor(0.2258, device='cpu'), tensor(0.2279, device='cpu'), tensor(0.2282, device='cpu'), tensor(0.2247, device='cpu'), tensor(0.2240, device='cpu'), tensor(0.2340, device='cpu'), tensor(0.2252, device='cpu'), tensor(0.2253, device='cpu'), tensor(0.2233, device='cpu'), tensor(0.2269, device='cpu'), tensor(0.2253, device='cpu')]\n",
            "loop  3\n",
            "Epoch    0, loss.full = 0.6747, nmi = 0.02\n",
            "Epoch   25, loss.full = 0.2979, nmi = 0.43\n",
            "Epoch   50, loss.full = 0.2619, nmi = 0.45\n",
            "Epoch   75, loss.full = 0.2462, nmi = 0.43\n",
            "Epoch  100, loss.full = 0.2458, nmi = 0.45\n",
            "Epoch  125, loss.full = 0.2359, nmi = 0.43\n",
            "Epoch  150, loss.full = 0.2342, nmi = 0.42\n",
            "Epoch  175, loss.full = 0.2356, nmi = 0.41\n",
            "Epoch  200, loss.full = 0.2354, nmi = 0.43\n",
            "Epoch  225, loss.full = 0.2338, nmi = 0.43\n",
            "Epoch  250, loss.full = 0.2327, nmi = 0.42\n",
            "Epoch  275, loss.full = 0.2358, nmi = 0.42\n",
            "Epoch  300, loss.full = 0.2321, nmi = 0.42\n",
            "Epoch  325, loss.full = 0.2366, nmi = 0.42\n",
            "Epoch  350, loss.full = 0.2306, nmi = 0.42\n"
          ]
        }
      ]
    },
    {
      "cell_type": "code",
      "source": [
        "import matplotlib.pyplot as plt\n",
        "\n",
        "plt.xlabel('Number of epochs')\n",
        "plt.ylabel('Loss')\n",
        "plt.plot(epochs,loss_values)"
      ],
      "metadata": {
        "colab": {
          "base_uri": "https://localhost:8080/",
          "height": 467
        },
        "id": "ST8TXer9HPPJ",
        "outputId": "dd3ea0b9-c8a5-4be4-b49c-fc732c63ede4"
      },
      "execution_count": 67,
      "outputs": [
        {
          "output_type": "execute_result",
          "data": {
            "text/plain": [
              "[<matplotlib.lines.Line2D at 0x7ba29eaca380>]"
            ]
          },
          "metadata": {},
          "execution_count": 67
        },
        {
          "output_type": "display_data",
          "data": {
            "text/plain": [
              "<Figure size 640x480 with 1 Axes>"
            ],
            "image/png": "[encoded data removed]"
          },
          "metadata": {}
        }
      ]
    }
  ]
}