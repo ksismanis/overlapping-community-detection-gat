{
  "nbformat": 4,
  "nbformat_minor": 0,
  "metadata": {
    "colab": {
      "provenance": [],
      "gpuType": "T4"
    },
    "kernelspec": {
      "name": "python3",
      "display_name": "Python 3"
    },
    "language_info": {
      "name": "python"
    },
    "accelerator": "GPU"
  },
  "cells": [
    {
      "cell_type": "markdown",
      "source": [],
      "metadata": {
        "id": "wc8Jq8EUu0p2"
      }
    },
    {
      "cell_type": "code",
      "execution_count": 1,
      "metadata": {
        "id": "F09VLEbCMcec",
        "colab": {
          "base_uri": "https://localhost:8080/"
        },
        "outputId": "36f16489-4335-4264-ea3d-60fdb44fd550"
      },
      "outputs": [
        {
          "output_type": "stream",
          "name": "stdout",
          "text": [
            "Cloning into 'overlapping-community-detection-gat'...\n",
            "remote: Enumerating objects: 82, done.\u001b[K\n",
            "remote: Counting objects: 100% (34/34), done.\u001b[K\n",
            "remote: Compressing objects: 100% (23/23), done.\u001b[K\n",
            "remote: Total 82 (delta 21), reused 17 (delta 11), pack-reused 48\u001b[K\n",
            "Receiving objects: 100% (82/82), 16.66 MiB | 10.94 MiB/s, done.\n",
            "Resolving deltas: 100% (32/32), done.\n"
          ]
        }
      ],
      "source": [
        "!git clone https://github.com/ksismanis/overlapping-community-detection-gat.git"
      ]
    },
    {
      "cell_type": "code",
      "source": [
        "!ls /content/overlapping-community-detection-gat\n"
      ],
      "metadata": {
        "colab": {
          "base_uri": "https://localhost:8080/"
        },
        "id": "XiZBxItvvHVw",
        "outputId": "a6dc6c3e-ca84-4d90-a771-1874bdbd4d76"
      },
      "execution_count": 5,
      "outputs": [
        {
          "output_type": "stream",
          "name": "stdout",
          "text": [
            "data\t\t   LICENSE  nocd-gat.ipynb  README.md\t      setup.py\n",
            "interactive.ipynb  nocd     nocd-gat.py     requirements.txt\n"
          ]
        }
      ]
    },
    {
      "cell_type": "code",
      "metadata": {
        "outputId": "3844a139-d0ec-4ee5-f1bb-968fcdc21e6a",
        "colab": {
          "base_uri": "https://localhost:8080/"
        },
        "id": "Mwbu5sdBycYV"
      },
      "source": [
        "!pip3 install torch"
      ],
      "execution_count": 6,
      "outputs": [
        {
          "output_type": "stream",
          "name": "stdout",
          "text": [
            "Requirement already satisfied: torch in /usr/local/lib/python3.10/dist-packages (2.3.0+cu121)\n",
            "Requirement already satisfied: filelock in /usr/local/lib/python3.10/dist-packages (from torch) (3.15.1)\n",
            "Requirement already satisfied: typing-extensions>=4.8.0 in /usr/local/lib/python3.10/dist-packages (from torch) (4.12.2)\n",
            "Requirement already satisfied: sympy in /usr/local/lib/python3.10/dist-packages (from torch) (1.12.1)\n",
            "Requirement already satisfied: networkx in /usr/local/lib/python3.10/dist-packages (from torch) (3.3)\n",
            "Requirement already satisfied: jinja2 in /usr/local/lib/python3.10/dist-packages (from torch) (3.1.4)\n",
            "Requirement already satisfied: fsspec in /usr/local/lib/python3.10/dist-packages (from torch) (2023.6.0)\n",
            "Collecting nvidia-cuda-nvrtc-cu12==12.1.105 (from torch)\n",
            "  Using cached nvidia_cuda_nvrtc_cu12-12.1.105-py3-none-manylinux1_x86_64.whl (23.7 MB)\n",
            "Collecting nvidia-cuda-runtime-cu12==12.1.105 (from torch)\n",
            "  Using cached nvidia_cuda_runtime_cu12-12.1.105-py3-none-manylinux1_x86_64.whl (823 kB)\n",
            "Collecting nvidia-cuda-cupti-cu12==12.1.105 (from torch)\n",
            "  Using cached nvidia_cuda_cupti_cu12-12.1.105-py3-none-manylinux1_x86_64.whl (14.1 MB)\n",
            "Collecting nvidia-cudnn-cu12==8.9.2.26 (from torch)\n",
            "  Using cached nvidia_cudnn_cu12-8.9.2.26-py3-none-manylinux1_x86_64.whl (731.7 MB)\n",
            "Collecting nvidia-cublas-cu12==12.1.3.1 (from torch)\n",
            "  Using cached nvidia_cublas_cu12-12.1.3.1-py3-none-manylinux1_x86_64.whl (410.6 MB)\n",
            "Collecting nvidia-cufft-cu12==11.0.2.54 (from torch)\n",
            "  Using cached nvidia_cufft_cu12-11.0.2.54-py3-none-manylinux1_x86_64.whl (121.6 MB)\n",
            "Collecting nvidia-curand-cu12==10.3.2.106 (from torch)\n",
            "  Using cached nvidia_curand_cu12-10.3.2.106-py3-none-manylinux1_x86_64.whl (56.5 MB)\n",
            "Collecting nvidia-cusolver-cu12==11.4.5.107 (from torch)\n",
            "  Using cached nvidia_cusolver_cu12-11.4.5.107-py3-none-manylinux1_x86_64.whl (124.2 MB)\n",
            "Collecting nvidia-cusparse-cu12==12.1.0.106 (from torch)\n",
            "  Using cached nvidia_cusparse_cu12-12.1.0.106-py3-none-manylinux1_x86_64.whl (196.0 MB)\n",
            "Collecting nvidia-nccl-cu12==2.20.5 (from torch)\n",
            "  Using cached nvidia_nccl_cu12-2.20.5-py3-none-manylinux2014_x86_64.whl (176.2 MB)\n",
            "Collecting nvidia-nvtx-cu12==12.1.105 (from torch)\n",
            "  Using cached nvidia_nvtx_cu12-12.1.105-py3-none-manylinux1_x86_64.whl (99 kB)\n",
            "Requirement already satisfied: triton==2.3.0 in /usr/local/lib/python3.10/dist-packages (from torch) (2.3.0)\n",
            "Collecting nvidia-nvjitlink-cu12 (from nvidia-cusolver-cu12==11.4.5.107->torch)\n",
            "  Downloading nvidia_nvjitlink_cu12-12.5.40-py3-none-manylinux2014_x86_64.whl (21.3 MB)\n",
            "\u001b[2K     \u001b[90m━━━━━━━━━━━━━━━━━━━━━━━━━━━━━━━━━━━━━━━━\u001b[0m \u001b[32m21.3/21.3 MB\u001b[0m \u001b[31m60.6 MB/s\u001b[0m eta \u001b[36m0:00:00\u001b[0m\n",
            "\u001b[?25hRequirement already satisfied: MarkupSafe>=2.0 in /usr/local/lib/python3.10/dist-packages (from jinja2->torch) (2.1.5)\n",
            "Requirement already satisfied: mpmath<1.4.0,>=1.1.0 in /usr/local/lib/python3.10/dist-packages (from sympy->torch) (1.3.0)\n",
            "Installing collected packages: nvidia-nvtx-cu12, nvidia-nvjitlink-cu12, nvidia-nccl-cu12, nvidia-curand-cu12, nvidia-cufft-cu12, nvidia-cuda-runtime-cu12, nvidia-cuda-nvrtc-cu12, nvidia-cuda-cupti-cu12, nvidia-cublas-cu12, nvidia-cusparse-cu12, nvidia-cudnn-cu12, nvidia-cusolver-cu12\n",
            "Successfully installed nvidia-cublas-cu12-12.1.3.1 nvidia-cuda-cupti-cu12-12.1.105 nvidia-cuda-nvrtc-cu12-12.1.105 nvidia-cuda-runtime-cu12-12.1.105 nvidia-cudnn-cu12-8.9.2.26 nvidia-cufft-cu12-11.0.2.54 nvidia-curand-cu12-10.3.2.106 nvidia-cusolver-cu12-11.4.5.107 nvidia-cusparse-cu12-12.1.0.106 nvidia-nccl-cu12-2.20.5 nvidia-nvjitlink-cu12-12.5.40 nvidia-nvtx-cu12-12.1.105\n"
          ]
        }
      ]
    },
    {
      "cell_type": "code",
      "source": [
        "!pip install  numpy==1.23.1\n"
      ],
      "metadata": {
        "colab": {
          "base_uri": "https://localhost:8080/",
          "height": 365
        },
        "id": "xM8M8jCY2Lvn",
        "outputId": "8901ea56-5978-4585-e000-ecc52dbf9003"
      },
      "execution_count": 7,
      "outputs": [
        {
          "output_type": "stream",
          "name": "stdout",
          "text": [
            "Collecting numpy==1.23.1\n",
            "  Downloading numpy-1.23.1-cp310-cp310-manylinux_2_17_x86_64.manylinux2014_x86_64.whl (17.0 MB)\n",
            "\u001b[2K     \u001b[90m━━━━━━━━━━━━━━━━━━━━━━━━━━━━━━━━━━━━━━━━\u001b[0m \u001b[32m17.0/17.0 MB\u001b[0m \u001b[31m50.8 MB/s\u001b[0m eta \u001b[36m0:00:00\u001b[0m\n",
            "\u001b[?25hInstalling collected packages: numpy\n",
            "  Attempting uninstall: numpy\n",
            "    Found existing installation: numpy 1.25.2\n",
            "    Uninstalling numpy-1.25.2:\n",
            "      Successfully uninstalled numpy-1.25.2\n",
            "\u001b[31mERROR: pip's dependency resolver does not currently take into account all the packages that are installed. This behaviour is the source of the following dependency conflicts.\n",
            "chex 0.1.86 requires numpy>=1.24.1, but you have numpy 1.23.1 which is incompatible.\n",
            "pandas-stubs 2.0.3.230814 requires numpy>=1.25.0; python_version >= \"3.9\", but you have numpy 1.23.1 which is incompatible.\n",
            "tensorflow 2.15.0 requires numpy<2.0.0,>=1.23.5, but you have numpy 1.23.1 which is incompatible.\u001b[0m\u001b[31m\n",
            "\u001b[0mSuccessfully installed numpy-1.23.1\n"
          ]
        },
        {
          "output_type": "display_data",
          "data": {
            "application/vnd.colab-display-data+json": {
              "pip_warning": {
                "packages": [
                  "numpy"
                ]
              },
              "id": "87641657657c43249b94f6ac983aa4c4"
            }
          },
          "metadata": {}
        }
      ]
    },
    {
      "cell_type": "code",
      "source": [
        "!pip install scipy\n",
        "!pip install torch-geometric"
      ],
      "metadata": {
        "colab": {
          "base_uri": "https://localhost:8080/"
        },
        "id": "aItyct0qymcg",
        "outputId": "0f5a750b-a6b8-4d1c-9f5e-49d9c1822d82"
      },
      "execution_count": 1,
      "outputs": [
        {
          "output_type": "stream",
          "name": "stdout",
          "text": [
            "Requirement already satisfied: scipy in /usr/local/lib/python3.10/dist-packages (1.11.4)\n",
            "Requirement already satisfied: numpy<1.28.0,>=1.21.6 in /usr/local/lib/python3.10/dist-packages (from scipy) (1.23.1)\n",
            "Collecting torch-geometric\n",
            "  Downloading torch_geometric-2.5.3-py3-none-any.whl (1.1 MB)\n",
            "\u001b[2K     \u001b[90m━━━━━━━━━━━━━━━━━━━━━━━━━━━━━━━━━━━━━━━━\u001b[0m \u001b[32m1.1/1.1 MB\u001b[0m \u001b[31m24.0 MB/s\u001b[0m eta \u001b[36m0:00:00\u001b[0m\n",
            "\u001b[?25hRequirement already satisfied: tqdm in /usr/local/lib/python3.10/dist-packages (from torch-geometric) (4.66.4)\n",
            "Requirement already satisfied: numpy in /usr/local/lib/python3.10/dist-packages (from torch-geometric) (1.23.1)\n",
            "Requirement already satisfied: scipy in /usr/local/lib/python3.10/dist-packages (from torch-geometric) (1.11.4)\n",
            "Requirement already satisfied: fsspec in /usr/local/lib/python3.10/dist-packages (from torch-geometric) (2023.6.0)\n",
            "Requirement already satisfied: jinja2 in /usr/local/lib/python3.10/dist-packages (from torch-geometric) (3.1.4)\n",
            "Requirement already satisfied: aiohttp in /usr/local/lib/python3.10/dist-packages (from torch-geometric) (3.9.5)\n",
            "Requirement already satisfied: requests in /usr/local/lib/python3.10/dist-packages (from torch-geometric) (2.31.0)\n",
            "Requirement already satisfied: pyparsing in /usr/local/lib/python3.10/dist-packages (from torch-geometric) (3.1.2)\n",
            "Requirement already satisfied: scikit-learn in /usr/local/lib/python3.10/dist-packages (from torch-geometric) (1.2.2)\n",
            "Requirement already satisfied: psutil>=5.8.0 in /usr/local/lib/python3.10/dist-packages (from torch-geometric) (5.9.5)\n",
            "Requirement already satisfied: aiosignal>=1.1.2 in /usr/local/lib/python3.10/dist-packages (from aiohttp->torch-geometric) (1.3.1)\n",
            "Requirement already satisfied: attrs>=17.3.0 in /usr/local/lib/python3.10/dist-packages (from aiohttp->torch-geometric) (23.2.0)\n",
            "Requirement already satisfied: frozenlist>=1.1.1 in /usr/local/lib/python3.10/dist-packages (from aiohttp->torch-geometric) (1.4.1)\n",
            "Requirement already satisfied: multidict<7.0,>=4.5 in /usr/local/lib/python3.10/dist-packages (from aiohttp->torch-geometric) (6.0.5)\n",
            "Requirement already satisfied: yarl<2.0,>=1.0 in /usr/local/lib/python3.10/dist-packages (from aiohttp->torch-geometric) (1.9.4)\n",
            "Requirement already satisfied: async-timeout<5.0,>=4.0 in /usr/local/lib/python3.10/dist-packages (from aiohttp->torch-geometric) (4.0.3)\n",
            "Requirement already satisfied: MarkupSafe>=2.0 in /usr/local/lib/python3.10/dist-packages (from jinja2->torch-geometric) (2.1.5)\n",
            "Requirement already satisfied: charset-normalizer<4,>=2 in /usr/local/lib/python3.10/dist-packages (from requests->torch-geometric) (3.3.2)\n",
            "Requirement already satisfied: idna<4,>=2.5 in /usr/local/lib/python3.10/dist-packages (from requests->torch-geometric) (3.7)\n",
            "Requirement already satisfied: urllib3<3,>=1.21.1 in /usr/local/lib/python3.10/dist-packages (from requests->torch-geometric) (2.0.7)\n",
            "Requirement already satisfied: certifi>=2017.4.17 in /usr/local/lib/python3.10/dist-packages (from requests->torch-geometric) (2024.6.2)\n",
            "Requirement already satisfied: joblib>=1.1.1 in /usr/local/lib/python3.10/dist-packages (from scikit-learn->torch-geometric) (1.4.2)\n",
            "Requirement already satisfied: threadpoolctl>=2.0.0 in /usr/local/lib/python3.10/dist-packages (from scikit-learn->torch-geometric) (3.5.0)\n",
            "Installing collected packages: torch-geometric\n",
            "Successfully installed torch-geometric-2.5.3\n"
          ]
        }
      ]
    },
    {
      "cell_type": "code",
      "source": [
        "!cp -va /content/overlapping-community-detection-gat/nocd /content"
      ],
      "metadata": {
        "colab": {
          "base_uri": "https://localhost:8080/"
        },
        "id": "BqBmcimA0U8y",
        "outputId": "a8946e5c-666f-4f8a-ba27-45dc17dcb637"
      },
      "execution_count": 8,
      "outputs": [
        {
          "output_type": "stream",
          "name": "stdout",
          "text": [
            "'/content/overlapping-community-detection-gat/nocd' -> '/content/nocd'\n",
            "'/content/overlapping-community-detection-gat/nocd/__init__.py' -> '/content/nocd/__init__.py'\n",
            "'/content/overlapping-community-detection-gat/nocd/data.py' -> '/content/nocd/data.py'\n",
            "'/content/overlapping-community-detection-gat/nocd/generate.py' -> '/content/nocd/generate.py'\n",
            "'/content/overlapping-community-detection-gat/nocd/metrics' -> '/content/nocd/metrics'\n",
            "'/content/overlapping-community-detection-gat/nocd/metrics/__init__.py' -> '/content/nocd/metrics/__init__.py'\n",
            "'/content/overlapping-community-detection-gat/nocd/metrics/supervised.py' -> '/content/nocd/metrics/supervised.py'\n",
            "'/content/overlapping-community-detection-gat/nocd/metrics/unsupervised.py' -> '/content/nocd/metrics/unsupervised.py'\n",
            "'/content/overlapping-community-detection-gat/nocd/nn' -> '/content/nocd/nn'\n",
            "'/content/overlapping-community-detection-gat/nocd/nn/__init__.py' -> '/content/nocd/nn/__init__.py'\n",
            "'/content/overlapping-community-detection-gat/nocd/nn/decoder.py' -> '/content/nocd/nn/decoder.py'\n",
            "'/content/overlapping-community-detection-gat/nocd/nn/gat.py' -> '/content/nocd/nn/gat.py'\n",
            "'/content/overlapping-community-detection-gat/nocd/nn/gcn.py' -> '/content/nocd/nn/gcn.py'\n",
            "'/content/overlapping-community-detection-gat/nocd/nn/imrpoved_gcn.py' -> '/content/nocd/nn/imrpoved_gcn.py'\n",
            "'/content/overlapping-community-detection-gat/nocd/sampler.py' -> '/content/nocd/sampler.py'\n",
            "'/content/overlapping-community-detection-gat/nocd/train.py' -> '/content/nocd/train.py'\n",
            "'/content/overlapping-community-detection-gat/nocd/utils.py' -> '/content/nocd/utils.py'\n"
          ]
        }
      ]
    },
    {
      "cell_type": "code",
      "source": [
        "import os\n",
        "import time\n",
        "import nocd\n",
        "import matplotlib.pyplot as plt\n",
        "import numpy as np\n",
        "import scipy.sparse as sp\n",
        "import torch\n",
        "import torch.nn as nn\n",
        "import torch.nn.functional as F\n",
        "from torch_geometric.nn import GAT\n",
        "from torch_geometric.nn import GCN\n",
        "from torch_geometric.nn import GIN\n",
        "from torch_geometric.nn import GraphSAGE\n",
        "from torch_geometric.nn import SignedGCN\n",
        "from torch_geometric.loader import GraphSAINTRandomWalkSampler\n",
        "import time\n",
        "import statistics\n",
        "\n",
        "from sklearn.preprocessing import normalize\n",
        "\n",
        "device = torch.device(\"cuda:0\")\n",
        "torch.set_default_tensor_type(torch.cuda.FloatTensor)"
      ],
      "metadata": {
        "id": "4IxWqM4zy7Zn"
      },
      "execution_count": 10,
      "outputs": []
    },
    {
      "cell_type": "code",
      "source": [
        "!cp -va  /content/overlapping-community-detection-gat/data /content"
      ],
      "metadata": {
        "colab": {
          "base_uri": "https://localhost:8080/"
        },
        "id": "VMcwGHgs0kIu",
        "outputId": "55cc455d-6fe3-461d-b76f-5ecc85ed69df"
      },
      "execution_count": 11,
      "outputs": [
        {
          "output_type": "stream",
          "name": "stdout",
          "text": [
            "'/content/overlapping-community-detection-gat/data' -> '/content/data'\n",
            "'/content/overlapping-community-detection-gat/data/facebook_ego' -> '/content/data/facebook_ego'\n",
            "'/content/overlapping-community-detection-gat/data/facebook_ego/fb_0.npz' -> '/content/data/facebook_ego/fb_0.npz'\n",
            "'/content/overlapping-community-detection-gat/data/facebook_ego/fb_107.npz' -> '/content/data/facebook_ego/fb_107.npz'\n",
            "'/content/overlapping-community-detection-gat/data/facebook_ego/fb_1684.npz' -> '/content/data/facebook_ego/fb_1684.npz'\n",
            "'/content/overlapping-community-detection-gat/data/facebook_ego/fb_1912.npz' -> '/content/data/facebook_ego/fb_1912.npz'\n",
            "'/content/overlapping-community-detection-gat/data/facebook_ego/fb_3437.npz' -> '/content/data/facebook_ego/fb_3437.npz'\n",
            "'/content/overlapping-community-detection-gat/data/facebook_ego/fb_348.npz' -> '/content/data/facebook_ego/fb_348.npz'\n",
            "'/content/overlapping-community-detection-gat/data/facebook_ego/fb_3980.npz' -> '/content/data/facebook_ego/fb_3980.npz'\n",
            "'/content/overlapping-community-detection-gat/data/facebook_ego/fb_414.npz' -> '/content/data/facebook_ego/fb_414.npz'\n",
            "'/content/overlapping-community-detection-gat/data/facebook_ego/fb_686.npz' -> '/content/data/facebook_ego/fb_686.npz'\n",
            "'/content/overlapping-community-detection-gat/data/facebook_ego/fb_698.npz' -> '/content/data/facebook_ego/fb_698.npz'\n",
            "'/content/overlapping-community-detection-gat/data/mag_chem.npz' -> '/content/data/mag_chem.npz'\n",
            "'/content/overlapping-community-detection-gat/data/mag_cs.npz' -> '/content/data/mag_cs.npz'\n",
            "'/content/overlapping-community-detection-gat/data/mag_eng.npz' -> '/content/data/mag_eng.npz'\n",
            "'/content/overlapping-community-detection-gat/data/mag_med.npz' -> '/content/data/mag_med.npz'\n"
          ]
        }
      ]
    },
    {
      "cell_type": "code",
      "source": [],
      "metadata": {
        "id": "vRalPlBNux1G"
      },
      "execution_count": null,
      "outputs": []
    },
    {
      "cell_type": "code",
      "source": [
        "\n",
        "# f = 'fb384gatA'\n",
        "# loader = nocd.data.load_dataset('/content/overlapping-community-detection-gat/data/facebook_ego/facebook_ego/fb_348.npz')\n",
        "f = 'fb414gatA'\n",
        "loader = nocd.data.load_dataset('/content/overlapping-community-detection-gat/data/facebook_ego/fb_414.npz')\n",
        "# f = 'fb686gatA'\n",
        "# loader = nocd.data.load_dataset('/content/overlapping-community-detection-gat/data/facebook_ego/fb_686.npz')\n",
        "# f = 'fb698gcnX'\n",
        "# loader = nocd.data.load_dataset('/content/overlapping-community-detection-gat/data/facebook_ego//fb_698.npz')\n",
        "# f = 'fb1684gcnA'\n",
        "# loader = nocd.data.load_dataset('//content/overlapping-community-detection-gat/data/facebook_ego/fb_1684.npz')\n",
        "# f = 'fb1912gcnA'\n",
        "# loader = nocd.data.load_dataset('/content/overlapping-community-detection-gat/data/facebook_ego/fb_1912.npz')\n",
        "\n",
        "# f= 'mag_chemgatA'\n",
        "# loader = nocd.data.load_dataset('data/mag_chem.npz')\n",
        "# f= 'mag_csgatX'\n",
        "# loader = nocd.data.load_dataset('data/mag_cs.npz')\n",
        "# f= 'mag_enggatA'\n",
        "# loader = nocd.data.load_dataset('data/mag_eng.npz')\n",
        "# f= 'mag_medgatA'\n",
        "# loader = nocd.data.load_dataset('data/mag_med.npz')\n",
        "\n",
        "A, X, Z_gt = loader['A'], loader['X'], loader['Z']\n",
        "N, K = Z_gt.shape\n",
        "\n",
        "hidden_sizes = [128]    # hidden sizes of the GNN\n",
        "weight_decay = 1e-2     # strength of L2 regularization on GNN weights\n",
        "dropout = 0.5           # whether to use dropout\n",
        "batch_norm = True       # whether to use batch norm\n",
        "lr = 1e-3               # learning rate\n",
        "max_epochs = 500        # number of epochs to train\n",
        "display_step = 25       # how often to compute validation loss\n",
        "balance_loss = True     # whether to use balanced loss\n",
        "stochastic_loss = True  # whether to use stochastic or full-batch training\n",
        "batch_size = 20000      # batch size (only for stochastic training)\n",
        "\n",
        "# batch_size = 20      # batch size (only for stochastic training)\n"
      ],
      "metadata": {
        "id": "LQGr9Tv40zP7"
      },
      "execution_count": 16,
      "outputs": []
    },
    {
      "cell_type": "code",
      "source": [
        "x_norm = normalize(X)  # node features\n",
        "# x_norm = normalize(A)  # adjacency matrix\n",
        "# x_norm = sp.hstack([normalize(X), normalize(A)])  # concatenate A and X\n",
        "x_norm = nocd.utils.to_sparse_tensor(x_norm).cuda()\n",
        "sampler = nocd.sampler.get_edge_sampler(A, batch_size, batch_size, num_workers=5)\n",
        "# gnn = nocd.nn.GCN(x_norm.shape[1], hidden_sizes, K, batch_norm=batch_norm, dropout=dropout).cuda()\n",
        "gnn = nocd.nn.GAT(x_norm.shape[1],hidden_sizes,K,batch_norm=batch_norm,dropout=dropout).cuda()\n",
        "adj_norm = gnn.normalize_adj(A)\n",
        "decoder = nocd.nn.BerpoDecoder(N, A.nnz, balance_loss=balance_loss)\n",
        "opt = torch.optim.Adam(gnn.parameters(), lr=lr)"
      ],
      "metadata": {
        "id": "uElEyx8Z027h",
        "colab": {
          "base_uri": "https://localhost:8080/"
        },
        "outputId": "c29c3b6a-2845-4914-e72a-6cee9869ece8"
      },
      "execution_count": 17,
      "outputs": [
        {
          "output_type": "stream",
          "name": "stderr",
          "text": [
            "/content/nocd/utils.py:35: UserWarning: torch.sparse.SparseTensor(indices, values, shape, *, device=) is deprecated.  Please use torch.sparse_coo_tensor(indices, values, shape, dtype=, device=). (Triggered internally at ../torch/csrc/utils/tensor_new.cpp:621.)\n",
            "  sparse_tensor = torch.sparse.FloatTensor(indices, values, shape)\n",
            "/usr/local/lib/python3.10/dist-packages/torch/utils/data/dataloader.py:558: UserWarning: This DataLoader will create 5 worker processes in total. Our suggested max number of worker in current system is 2, which is smaller than what this DataLoader is going to create. Please be aware that excessive worker creation might get DataLoader running slow or even freeze, lower the worker number to avoid potential slowness/freeze if necessary.\n",
            "  warnings.warn(_create_warning_msg(\n"
          ]
        }
      ]
    },
    {
      "cell_type": "code",
      "source": [
        "def get_nmi(thresh=0.5):\n",
        "    \"\"\"Compute Overlapping NMI of the communities predicted by the GNN.\"\"\"\n",
        "    gnn.eval()\n",
        "    # Z = F.relu(gnn(x_norm, adj_norm))\n",
        "    Z = F.leaky_relu(gnn(x_norm, adj_norm))\n",
        "    Z_pred = Z.cpu().detach().numpy() > thresh\n",
        "    nmi = nocd.metrics.overlapping_nmi(Z_pred, Z_gt)\n",
        "    return nmi\n"
      ],
      "metadata": {
        "id": "l_B6bl7i1AOE"
      },
      "execution_count": 18,
      "outputs": []
    },
    {
      "cell_type": "code",
      "source": [
        "def train():\n",
        "    val_loss = np.inf\n",
        "    validation_fn = lambda: val_loss\n",
        "    early_stopping = nocd.train.NoImprovementStopping(validation_fn, patience=1)\n",
        "    model_saver = nocd.train.ModelSaver(gnn)\n",
        "    for epoch, batch in enumerate(sampler):\n",
        "        if epoch > max_epochs:\n",
        "            break\n",
        "        if epoch % 25 == 0:\n",
        "            with torch.no_grad():\n",
        "                gnn.eval()\n",
        "                # Compute validation loss\n",
        "                Z = F.relu(gnn(x_norm, adj_norm))\n",
        "                val_loss = decoder.loss_full(Z, A)\n",
        "                print(f'Epoch {epoch:4d}, loss.full = {val_loss:.4f}, nmi = {get_nmi():.2f}')\n",
        "\n",
        "                # Check if it's time for early stopping / to save the model\n",
        "                early_stopping.next_step()\n",
        "                if early_stopping.should_save():\n",
        "                    model_saver.save()\n",
        "                if early_stopping.should_stop():\n",
        "                    print(f'Breaking due to early stopping at epoch {epoch}')\n",
        "                    break\n",
        "\n",
        "        # Training step\n",
        "        gnn.train()\n",
        "        opt.zero_grad()\n",
        "        Z = F.relu(gnn(x_norm, adj_norm))\n",
        "        ones_idx, zeros_idx = batch\n",
        "        if stochastic_loss:\n",
        "            loss = decoder.loss_batch(Z, ones_idx, zeros_idx)\n",
        "        else:\n",
        "            loss = decoder.loss_full(Z, A)\n",
        "        loss += nocd.utils.l2_reg_loss(gnn, scale=weight_decay)\n",
        "        loss.backward()\n",
        "        opt.step()\n",
        "\n",
        "    thresh = 0.5\n",
        "    Z = F.relu(gnn(x_norm, adj_norm))\n",
        "    Z_pred = Z.cpu().detach().numpy() > thresh\n",
        "    model_saver.restore()\n",
        "    nmi = get_nmi(thresh)\n",
        "    print(f'Final nmi = {nmi:.3f}')\n",
        "    return(nmi)\n"
      ],
      "metadata": {
        "id": "molfHn3C1HcY"
      },
      "execution_count": 19,
      "outputs": []
    },
    {
      "cell_type": "code",
      "source": [
        "res = []\n",
        "times = []\n",
        "for loops in range(50):\n",
        "    print('loop ', loops)\n",
        "    st = time.time()\n",
        "    nmi = train()\n",
        "    et = time.time()\n",
        "    elapsed_time = et  - st\n",
        "    res.append(nmi)\n",
        "    times.append(elapsed_time)\n",
        "    for layer in gnn.layers:\n",
        "            layer.reset_parameters()\n",
        "    if loops > 2:\n",
        "        avg = statistics.mean(res)\n",
        "        sd = statistics.stdev(res)\n",
        "        avg_time  = statistics.mean(times)\n",
        "        print('average nmi after', loops,'is ', avg)\n",
        "        print('standard deviation  nmi  after', loops,'is ', sd)\n",
        "        print('avrate time   after', loops,'is ', avg_time)\n",
        "        print(f'average_wmi for {f} is: {avg:.3f}, time  is {avg_time:.3f} seconds, deviation is:  {sd:.4f}')\n",
        "\n",
        "print(f'final average_wmi for {f} is: {avg:.3f}, time  is {avg_time:.3f} seconds, deviation is:  {sd:.4f}')\n",
        "resultfile = open('gat_6_heads_with_features.txt', \"a\")\n",
        "resultfile.writelines(f' {f} \\t {avg:.3f} \\t {avg_time:.3f}\\t {sd:.3f} \\n')\n",
        "resultfile.close()\n"
      ],
      "metadata": {
        "colab": {
          "base_uri": "https://localhost:8080/"
        },
        "id": "QeJG5ekB2CV7",
        "outputId": "1076af08-6fd0-4cc2-ba0f-e12e8ccfafc0"
      },
      "execution_count": null,
      "outputs": [
        {
          "output_type": "stream",
          "name": "stdout",
          "text": [
            "loop  0\n"
          ]
        },
        {
          "output_type": "stream",
          "name": "stderr",
          "text": [
            "/content/nocd/nn/gat.py:13: UserWarning: The torch.cuda.*DtypeTensor constructors are no longer recommended. It's best to use methods such as torch.tensor(data, dtype=*, device='cuda') to create tensors. (Triggered internally at ../torch/csrc/tensor/python_tensor.cpp:78.)\n",
            "  return torch.cuda.sparse.FloatTensor(x.indices(), new_values, x.size())\n"
          ]
        },
        {
          "output_type": "stream",
          "name": "stdout",
          "text": [
            "Epoch    0, loss.full = 0.7999, nmi = 0.34\n",
            "Epoch   25, loss.full = 0.3359, nmi = 0.48\n",
            "Epoch   50, loss.full = 0.3066, nmi = 0.49\n",
            "Epoch   75, loss.full = 0.3129, nmi = 0.49\n",
            "Epoch  100, loss.full = 0.2975, nmi = 0.51\n",
            "Epoch  125, loss.full = 0.2845, nmi = 0.52\n",
            "Epoch  150, loss.full = 0.2912, nmi = 0.51\n",
            "Epoch  175, loss.full = 0.2678, nmi = 0.52\n",
            "Epoch  200, loss.full = 0.2706, nmi = 0.49\n",
            "Epoch  225, loss.full = 0.2843, nmi = 0.48\n",
            "Breaking due to early stopping at epoch 225\n",
            "Final nmi = 0.524\n",
            "loop  1\n",
            "Epoch    0, loss.full = 0.6442, nmi = 0.13\n",
            "Epoch   25, loss.full = 0.3420, nmi = 0.38\n",
            "Epoch   50, loss.full = 0.2722, nmi = 0.54\n",
            "Epoch   75, loss.full = 0.2778, nmi = 0.55\n",
            "Epoch  100, loss.full = 0.2694, nmi = 0.54\n",
            "Epoch  125, loss.full = 0.2693, nmi = 0.55\n",
            "Epoch  150, loss.full = 0.2720, nmi = 0.54\n",
            "Epoch  175, loss.full = 0.2691, nmi = 0.51\n",
            "Epoch  200, loss.full = 0.2582, nmi = 0.46\n",
            "Epoch  225, loss.full = 0.2568, nmi = 0.47\n",
            "Epoch  250, loss.full = 0.2610, nmi = 0.47\n",
            "Epoch  275, loss.full = 0.2694, nmi = 0.46\n",
            "Breaking due to early stopping at epoch 275\n",
            "Final nmi = 0.473\n",
            "loop  2\n",
            "Epoch    0, loss.full = 0.5390, nmi = 0.24\n",
            "Epoch   25, loss.full = 0.3039, nmi = 0.44\n",
            "Epoch   50, loss.full = 0.2902, nmi = 0.47\n",
            "Epoch   75, loss.full = 0.2739, nmi = 0.50\n",
            "Epoch  100, loss.full = 0.2695, nmi = 0.52\n",
            "Epoch  125, loss.full = 0.2584, nmi = 0.54\n",
            "Epoch  150, loss.full = 0.2541, nmi = 0.54\n",
            "Epoch  175, loss.full = 0.2542, nmi = 0.52\n",
            "Epoch  200, loss.full = 0.2498, nmi = 0.53\n",
            "Epoch  225, loss.full = 0.2455, nmi = 0.54\n",
            "Epoch  250, loss.full = 0.2451, nmi = 0.56\n",
            "Epoch  275, loss.full = 0.2503, nmi = 0.52\n",
            "Epoch  300, loss.full = 0.2489, nmi = 0.53\n",
            "Breaking due to early stopping at epoch 300\n",
            "Final nmi = 0.557\n",
            "loop  3\n",
            "Epoch    0, loss.full = 0.6360, nmi = 0.19\n",
            "Epoch   25, loss.full = 0.3185, nmi = 0.49\n",
            "Epoch   50, loss.full = 0.2830, nmi = 0.52\n",
            "Epoch   75, loss.full = 0.2791, nmi = 0.44\n",
            "Epoch  100, loss.full = 0.2700, nmi = 0.45\n",
            "Epoch  125, loss.full = 0.2684, nmi = 0.45\n",
            "Epoch  150, loss.full = 0.2675, nmi = 0.45\n",
            "Epoch  175, loss.full = 0.2698, nmi = 0.45\n",
            "Epoch  200, loss.full = 0.2642, nmi = 0.46\n",
            "Epoch  225, loss.full = 0.2666, nmi = 0.46\n",
            "Epoch  250, loss.full = 0.2675, nmi = 0.45\n",
            "Breaking due to early stopping at epoch 250\n",
            "Final nmi = 0.460\n",
            "average nmi after 3 is  0.5036174048977418\n",
            "standard deviation  nmi  after 3 is  0.0453094000211018\n",
            "avrate time   after 3 is  5.458744943141937\n",
            "average_wmi for fb414gatA is: 0.504, time  is 5.459 seconds, deviation is:  0.0453\n",
            "loop  4\n",
            "Epoch    0, loss.full = 0.5298, nmi = 0.23\n",
            "Epoch   25, loss.full = 0.3076, nmi = 0.45\n",
            "Epoch   50, loss.full = 0.2832, nmi = 0.54\n",
            "Epoch   75, loss.full = 0.2838, nmi = 0.55\n",
            "Epoch  100, loss.full = 0.2730, nmi = 0.55\n",
            "Epoch  125, loss.full = 0.2925, nmi = 0.55\n",
            "Epoch  150, loss.full = 0.2643, nmi = 0.56\n",
            "Epoch  175, loss.full = 0.2693, nmi = 0.57\n",
            "Epoch  200, loss.full = 0.2977, nmi = 0.55\n",
            "Breaking due to early stopping at epoch 200\n",
            "Final nmi = 0.562\n",
            "average nmi after 4 is  0.5153924266831947\n",
            "standard deviation  nmi  after 4 is  0.04725422719655488\n",
            "avrate time   after 4 is  5.052732610702515\n",
            "average_wmi for fb414gatA is: 0.515, time  is 5.053 seconds, deviation is:  0.0473\n",
            "loop  5\n",
            "Epoch    0, loss.full = 0.8317, nmi = 0.18\n",
            "Epoch   25, loss.full = 0.3285, nmi = 0.46\n",
            "Epoch   50, loss.full = 0.2756, nmi = 0.47\n",
            "Epoch   75, loss.full = 0.2823, nmi = 0.51\n",
            "Epoch  100, loss.full = 0.2705, nmi = 0.53\n",
            "Epoch  125, loss.full = 0.2765, nmi = 0.54\n",
            "Epoch  150, loss.full = 0.2776, nmi = 0.53\n",
            "Breaking due to early stopping at epoch 150\n",
            "Final nmi = 0.530\n",
            "average nmi after 5 is  0.5178992549942237\n",
            "standard deviation  nmi  after 5 is  0.04270918776376768\n",
            "avrate time   after 5 is  4.762734095255534\n",
            "average_wmi for fb414gatA is: 0.518, time  is 4.763 seconds, deviation is:  0.0427\n",
            "loop  6\n",
            "Epoch    0, loss.full = 0.4318, nmi = 0.22\n",
            "Epoch   25, loss.full = 0.4139, nmi = 0.34\n",
            "Epoch   50, loss.full = 0.2933, nmi = 0.49\n",
            "Epoch   75, loss.full = 0.2888, nmi = 0.45\n",
            "Epoch  100, loss.full = 0.3005, nmi = 0.44\n",
            "Epoch  125, loss.full = 0.2801, nmi = 0.47\n",
            "Epoch  150, loss.full = 0.2686, nmi = 0.49\n",
            "Epoch  175, loss.full = 0.2610, nmi = 0.47\n",
            "Epoch  200, loss.full = 0.2743, nmi = 0.48\n",
            "Epoch  225, loss.full = 0.2680, nmi = 0.48\n",
            "Breaking due to early stopping at epoch 225\n",
            "Final nmi = 0.471\n",
            "average nmi after 6 is  0.5112159449881689\n",
            "standard deviation  nmi  after 6 is  0.04281038068809789\n",
            "avrate time   after 6 is  4.752577543258667\n",
            "average_wmi for fb414gatA is: 0.511, time  is 4.753 seconds, deviation is:  0.0428\n",
            "loop  7\n"
          ]
        }
      ]
    }
  ]
}