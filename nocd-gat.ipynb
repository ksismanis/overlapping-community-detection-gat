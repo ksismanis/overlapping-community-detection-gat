{
  "nbformat": 4,
  "nbformat_minor": 0,
  "metadata": {
    "colab": {
      "provenance": [],
      "gpuType": "T4"
    },
    "kernelspec": {
      "name": "python3",
      "display_name": "Python 3"
    },
    "language_info": {
      "name": "python"
    },
    "accelerator": "GPU"
  },
  "cells": [
    {
      "cell_type": "markdown",
      "source": [],
      "metadata": {
        "id": "wc8Jq8EUu0p2"
      }
    },
    {
      "cell_type": "code",
      "execution_count": null,
      "metadata": {
        "id": "F09VLEbCMcec",
        "colab": {
          "base_uri": "https://localhost:8080/"
        },
        "outputId": "30681492-e623-4bd3-f4bd-a2c8265023d1"
      },
      "outputs": [
        {
          "output_type": "stream",
          "name": "stdout",
          "text": [
            "Cloning into 'torch-overlapping-community-detection'...\n",
            "remote: Enumerating objects: 259, done.\u001b[K\n",
            "remote: Counting objects: 100% (210/210), done.\u001b[K\n",
            "remote: Compressing objects: 100% (136/136), done.\u001b[K\n",
            "remote: Total 259 (delta 129), reused 141 (delta 69), pack-reused 49\u001b[K\n",
            "Receiving objects: 100% (259/259), 17.96 MiB | 13.02 MiB/s, done.\n",
            "Resolving deltas: 100% (140/140), done.\n"
          ]
        }
      ],
      "source": [
        "!git clone https://github.com/ksismanis/overlapping-community-detection-gat.git"
      ]
    },
    {
      "cell_type": "code",
      "source": [
        "!ls torch-overlapping-community-detection\n"
      ],
      "metadata": {
        "colab": {
          "base_uri": "https://localhost:8080/"
        },
        "id": "XiZBxItvvHVw",
        "outputId": "7850b4bc-a1f6-4d87-9786-705d04ab3c12"
      },
      "execution_count": null,
      "outputs": [
        {
          "output_type": "stream",
          "name": "stdout",
          "text": [
            "data\t\t\t\t\t README.md\n",
            "demorandom.py\t\t\t\t requirements.txt\n",
            "gat_10_loops_no_features.txt\t\t results\n",
            "gat_10_loops_with_features.txt\t\t results.old\n",
            "gat_6_heads_with_features.txt\t\t setup.py\n",
            "gcn_2_loops_with_features.txt\t\t testallgatnofeatures.py\n",
            "interactive.ipynb\t\t\t testallgatwithfeatures_cpu.py\n",
            "LICENSE\t\t\t\t\t testallgatwithfeatures.py\n",
            "newtest.py\t\t\t\t testallgcnnofeatures.py\n",
            "nocd\t\t\t\t\t testalloriginalgcn.py\n",
            "nocd.yml\t\t\t\t testmixwithfeatures.py\n",
            "notebook.ipynb\t\t\t\t test.py\n",
            "original_gcn_10_loops_with_features.txt  tests\n"
          ]
        }
      ]
    },
    {
      "cell_type": "code",
      "metadata": {
        "outputId": "4d7cc953-161c-4a74-b6ed-85ff6ef1f72a",
        "colab": {
          "base_uri": "https://localhost:8080/"
        },
        "id": "Mwbu5sdBycYV"
      },
      "source": [
        "!pip3 install torch"
      ],
      "execution_count": null,
      "outputs": [
        {
          "output_type": "stream",
          "name": "stdout",
          "text": [
            "Requirement already satisfied: torch in /usr/local/lib/python3.10/dist-packages (2.3.0+cu121)\n",
            "Requirement already satisfied: filelock in /usr/local/lib/python3.10/dist-packages (from torch) (3.14.0)\n",
            "Requirement already satisfied: typing-extensions>=4.8.0 in /usr/local/lib/python3.10/dist-packages (from torch) (4.12.2)\n",
            "Requirement already satisfied: sympy in /usr/local/lib/python3.10/dist-packages (from torch) (1.12.1)\n",
            "Requirement already satisfied: networkx in /usr/local/lib/python3.10/dist-packages (from torch) (3.3)\n",
            "Requirement already satisfied: jinja2 in /usr/local/lib/python3.10/dist-packages (from torch) (3.1.4)\n",
            "Requirement already satisfied: fsspec in /usr/local/lib/python3.10/dist-packages (from torch) (2023.6.0)\n",
            "Collecting nvidia-cuda-nvrtc-cu12==12.1.105 (from torch)\n",
            "  Using cached nvidia_cuda_nvrtc_cu12-12.1.105-py3-none-manylinux1_x86_64.whl (23.7 MB)\n",
            "Collecting nvidia-cuda-runtime-cu12==12.1.105 (from torch)\n",
            "  Using cached nvidia_cuda_runtime_cu12-12.1.105-py3-none-manylinux1_x86_64.whl (823 kB)\n",
            "Collecting nvidia-cuda-cupti-cu12==12.1.105 (from torch)\n",
            "  Using cached nvidia_cuda_cupti_cu12-12.1.105-py3-none-manylinux1_x86_64.whl (14.1 MB)\n",
            "Collecting nvidia-cudnn-cu12==8.9.2.26 (from torch)\n",
            "  Using cached nvidia_cudnn_cu12-8.9.2.26-py3-none-manylinux1_x86_64.whl (731.7 MB)\n",
            "Collecting nvidia-cublas-cu12==12.1.3.1 (from torch)\n",
            "  Using cached nvidia_cublas_cu12-12.1.3.1-py3-none-manylinux1_x86_64.whl (410.6 MB)\n",
            "Collecting nvidia-cufft-cu12==11.0.2.54 (from torch)\n",
            "  Using cached nvidia_cufft_cu12-11.0.2.54-py3-none-manylinux1_x86_64.whl (121.6 MB)\n",
            "Collecting nvidia-curand-cu12==10.3.2.106 (from torch)\n",
            "  Using cached nvidia_curand_cu12-10.3.2.106-py3-none-manylinux1_x86_64.whl (56.5 MB)\n",
            "Collecting nvidia-cusolver-cu12==11.4.5.107 (from torch)\n",
            "  Using cached nvidia_cusolver_cu12-11.4.5.107-py3-none-manylinux1_x86_64.whl (124.2 MB)\n",
            "Collecting nvidia-cusparse-cu12==12.1.0.106 (from torch)\n",
            "  Using cached nvidia_cusparse_cu12-12.1.0.106-py3-none-manylinux1_x86_64.whl (196.0 MB)\n",
            "Collecting nvidia-nccl-cu12==2.20.5 (from torch)\n",
            "  Using cached nvidia_nccl_cu12-2.20.5-py3-none-manylinux2014_x86_64.whl (176.2 MB)\n",
            "Collecting nvidia-nvtx-cu12==12.1.105 (from torch)\n",
            "  Using cached nvidia_nvtx_cu12-12.1.105-py3-none-manylinux1_x86_64.whl (99 kB)\n",
            "Requirement already satisfied: triton==2.3.0 in /usr/local/lib/python3.10/dist-packages (from torch) (2.3.0)\n",
            "Collecting nvidia-nvjitlink-cu12 (from nvidia-cusolver-cu12==11.4.5.107->torch)\n",
            "  Downloading nvidia_nvjitlink_cu12-12.5.40-py3-none-manylinux2014_x86_64.whl (21.3 MB)\n",
            "\u001b[2K     \u001b[90m━━━━━━━━━━━━━━━━━━━━━━━━━━━━━━━━━━━━━━━━\u001b[0m \u001b[32m21.3/21.3 MB\u001b[0m \u001b[31m41.3 MB/s\u001b[0m eta \u001b[36m0:00:00\u001b[0m\n",
            "\u001b[?25hRequirement already satisfied: MarkupSafe>=2.0 in /usr/local/lib/python3.10/dist-packages (from jinja2->torch) (2.1.5)\n",
            "Requirement already satisfied: mpmath<1.4.0,>=1.1.0 in /usr/local/lib/python3.10/dist-packages (from sympy->torch) (1.3.0)\n",
            "Installing collected packages: nvidia-nvtx-cu12, nvidia-nvjitlink-cu12, nvidia-nccl-cu12, nvidia-curand-cu12, nvidia-cufft-cu12, nvidia-cuda-runtime-cu12, nvidia-cuda-nvrtc-cu12, nvidia-cuda-cupti-cu12, nvidia-cublas-cu12, nvidia-cusparse-cu12, nvidia-cudnn-cu12, nvidia-cusolver-cu12\n",
            "Successfully installed nvidia-cublas-cu12-12.1.3.1 nvidia-cuda-cupti-cu12-12.1.105 nvidia-cuda-nvrtc-cu12-12.1.105 nvidia-cuda-runtime-cu12-12.1.105 nvidia-cudnn-cu12-8.9.2.26 nvidia-cufft-cu12-11.0.2.54 nvidia-curand-cu12-10.3.2.106 nvidia-cusolver-cu12-11.4.5.107 nvidia-cusparse-cu12-12.1.0.106 nvidia-nccl-cu12-2.20.5 nvidia-nvjitlink-cu12-12.5.40 nvidia-nvtx-cu12-12.1.105\n"
          ]
        }
      ]
    },
    {
      "cell_type": "code",
      "source": [
        "!pip install  numpy==1.23.1\n"
      ],
      "metadata": {
        "colab": {
          "base_uri": "https://localhost:8080/",
          "height": 365
        },
        "id": "xM8M8jCY2Lvn",
        "outputId": "b4321b16-e576-43c1-bc01-0415d675a5bc"
      },
      "execution_count": null,
      "outputs": [
        {
          "output_type": "stream",
          "name": "stdout",
          "text": [
            "Collecting numpy==1.23.1\n",
            "  Downloading numpy-1.23.1-cp310-cp310-manylinux_2_17_x86_64.manylinux2014_x86_64.whl (17.0 MB)\n",
            "\u001b[2K     \u001b[90m━━━━━━━━━━━━━━━━━━━━━━━━━━━━━━━━━━━━━━━━\u001b[0m \u001b[32m17.0/17.0 MB\u001b[0m \u001b[31m27.3 MB/s\u001b[0m eta \u001b[36m0:00:00\u001b[0m\n",
            "\u001b[?25hInstalling collected packages: numpy\n",
            "  Attempting uninstall: numpy\n",
            "    Found existing installation: numpy 1.25.2\n",
            "    Uninstalling numpy-1.25.2:\n",
            "      Successfully uninstalled numpy-1.25.2\n",
            "\u001b[31mERROR: pip's dependency resolver does not currently take into account all the packages that are installed. This behaviour is the source of the following dependency conflicts.\n",
            "chex 0.1.86 requires numpy>=1.24.1, but you have numpy 1.23.1 which is incompatible.\n",
            "pandas-stubs 2.0.3.230814 requires numpy>=1.25.0; python_version >= \"3.9\", but you have numpy 1.23.1 which is incompatible.\n",
            "tensorflow 2.15.0 requires numpy<2.0.0,>=1.23.5, but you have numpy 1.23.1 which is incompatible.\u001b[0m\u001b[31m\n",
            "\u001b[0mSuccessfully installed numpy-1.23.1\n"
          ]
        },
        {
          "output_type": "display_data",
          "data": {
            "application/vnd.colab-display-data+json": {
              "pip_warning": {
                "packages": [
                  "numpy"
                ]
              },
              "id": "a9d7892fae8d4d9abcfaf1699e019c2c"
            }
          },
          "metadata": {}
        }
      ]
    },
    {
      "cell_type": "code",
      "source": [
        "!pip install scipy\n",
        "!pip install torch-geometric"
      ],
      "metadata": {
        "colab": {
          "base_uri": "https://localhost:8080/"
        },
        "id": "aItyct0qymcg",
        "outputId": "a301f635-2046-4439-c705-99a0d6de1327"
      },
      "execution_count": null,
      "outputs": [
        {
          "output_type": "stream",
          "name": "stdout",
          "text": [
            "Requirement already satisfied: scipy in /usr/local/lib/python3.10/dist-packages (1.11.4)\n",
            "Requirement already satisfied: numpy<1.28.0,>=1.21.6 in /usr/local/lib/python3.10/dist-packages (from scipy) (1.23.1)\n",
            "Collecting torch-geometric\n",
            "  Downloading torch_geometric-2.5.3-py3-none-any.whl (1.1 MB)\n",
            "\u001b[2K     \u001b[90m━━━━━━━━━━━━━━━━━━━━━━━━━━━━━━━━━━━━━━━━\u001b[0m \u001b[32m1.1/1.1 MB\u001b[0m \u001b[31m6.9 MB/s\u001b[0m eta \u001b[36m0:00:00\u001b[0m\n",
            "\u001b[?25hRequirement already satisfied: tqdm in /usr/local/lib/python3.10/dist-packages (from torch-geometric) (4.66.4)\n",
            "Requirement already satisfied: numpy in /usr/local/lib/python3.10/dist-packages (from torch-geometric) (1.23.1)\n",
            "Requirement already satisfied: scipy in /usr/local/lib/python3.10/dist-packages (from torch-geometric) (1.11.4)\n",
            "Requirement already satisfied: fsspec in /usr/local/lib/python3.10/dist-packages (from torch-geometric) (2023.6.0)\n",
            "Requirement already satisfied: jinja2 in /usr/local/lib/python3.10/dist-packages (from torch-geometric) (3.1.4)\n",
            "Requirement already satisfied: aiohttp in /usr/local/lib/python3.10/dist-packages (from torch-geometric) (3.9.5)\n",
            "Requirement already satisfied: requests in /usr/local/lib/python3.10/dist-packages (from torch-geometric) (2.31.0)\n",
            "Requirement already satisfied: pyparsing in /usr/local/lib/python3.10/dist-packages (from torch-geometric) (3.1.2)\n",
            "Requirement already satisfied: scikit-learn in /usr/local/lib/python3.10/dist-packages (from torch-geometric) (1.2.2)\n",
            "Requirement already satisfied: psutil>=5.8.0 in /usr/local/lib/python3.10/dist-packages (from torch-geometric) (5.9.5)\n",
            "Requirement already satisfied: aiosignal>=1.1.2 in /usr/local/lib/python3.10/dist-packages (from aiohttp->torch-geometric) (1.3.1)\n",
            "Requirement already satisfied: attrs>=17.3.0 in /usr/local/lib/python3.10/dist-packages (from aiohttp->torch-geometric) (23.2.0)\n",
            "Requirement already satisfied: frozenlist>=1.1.1 in /usr/local/lib/python3.10/dist-packages (from aiohttp->torch-geometric) (1.4.1)\n",
            "Requirement already satisfied: multidict<7.0,>=4.5 in /usr/local/lib/python3.10/dist-packages (from aiohttp->torch-geometric) (6.0.5)\n",
            "Requirement already satisfied: yarl<2.0,>=1.0 in /usr/local/lib/python3.10/dist-packages (from aiohttp->torch-geometric) (1.9.4)\n",
            "Requirement already satisfied: async-timeout<5.0,>=4.0 in /usr/local/lib/python3.10/dist-packages (from aiohttp->torch-geometric) (4.0.3)\n",
            "Requirement already satisfied: MarkupSafe>=2.0 in /usr/local/lib/python3.10/dist-packages (from jinja2->torch-geometric) (2.1.5)\n",
            "Requirement already satisfied: charset-normalizer<4,>=2 in /usr/local/lib/python3.10/dist-packages (from requests->torch-geometric) (3.3.2)\n",
            "Requirement already satisfied: idna<4,>=2.5 in /usr/local/lib/python3.10/dist-packages (from requests->torch-geometric) (3.7)\n",
            "Requirement already satisfied: urllib3<3,>=1.21.1 in /usr/local/lib/python3.10/dist-packages (from requests->torch-geometric) (2.0.7)\n",
            "Requirement already satisfied: certifi>=2017.4.17 in /usr/local/lib/python3.10/dist-packages (from requests->torch-geometric) (2024.6.2)\n",
            "Requirement already satisfied: joblib>=1.1.1 in /usr/local/lib/python3.10/dist-packages (from scikit-learn->torch-geometric) (1.4.2)\n",
            "Requirement already satisfied: threadpoolctl>=2.0.0 in /usr/local/lib/python3.10/dist-packages (from scikit-learn->torch-geometric) (3.5.0)\n",
            "Installing collected packages: torch-geometric\n",
            "Successfully installed torch-geometric-2.5.3\n"
          ]
        }
      ]
    },
    {
      "cell_type": "code",
      "source": [
        "!cp -va /content/torch-overlapping-community-detection/nocd /content"
      ],
      "metadata": {
        "colab": {
          "base_uri": "https://localhost:8080/"
        },
        "id": "BqBmcimA0U8y",
        "outputId": "a78ddf84-68c1-44e9-a7c2-b14e76d7b991"
      },
      "execution_count": null,
      "outputs": [
        {
          "output_type": "stream",
          "name": "stdout",
          "text": [
            "'/content/torch-overlapping-community-detection/nocd/__init__.py' -> '/content/nocd/__init__.py'\n",
            "'/content/torch-overlapping-community-detection/nocd/data.py' -> '/content/nocd/data.py'\n",
            "'/content/torch-overlapping-community-detection/nocd/generate.py' -> '/content/nocd/generate.py'\n",
            "'/content/torch-overlapping-community-detection/nocd/metrics/__init__.py' -> '/content/nocd/metrics/__init__.py'\n",
            "'/content/torch-overlapping-community-detection/nocd/metrics/supervised.py' -> '/content/nocd/metrics/supervised.py'\n",
            "'/content/torch-overlapping-community-detection/nocd/metrics/unsupervised.py' -> '/content/nocd/metrics/unsupervised.py'\n",
            "'/content/torch-overlapping-community-detection/nocd/nn/__init__.py' -> '/content/nocd/nn/__init__.py'\n",
            "'/content/torch-overlapping-community-detection/nocd/nn/agat.py' -> '/content/nocd/nn/agat.py'\n",
            "'/content/torch-overlapping-community-detection/nocd/nn/agcn.py' -> '/content/nocd/nn/agcn.py'\n",
            "'/content/torch-overlapping-community-detection/nocd/nn/agin.py' -> '/content/nocd/nn/agin.py'\n",
            "'/content/torch-overlapping-community-detection/nocd/nn/amix.py' -> '/content/nocd/nn/amix.py'\n",
            "'/content/torch-overlapping-community-detection/nocd/nn/decoder.py' -> '/content/nocd/nn/decoder.py'\n",
            "'/content/torch-overlapping-community-detection/nocd/nn/gat.py' -> '/content/nocd/nn/gat.py'\n",
            "'/content/torch-overlapping-community-detection/nocd/nn/gcn.py' -> '/content/nocd/nn/gcn.py'\n",
            "'/content/torch-overlapping-community-detection/nocd/nn/imrpoved_gcn.py' -> '/content/nocd/nn/imrpoved_gcn.py'\n",
            "'/content/torch-overlapping-community-detection/nocd/sampler.py' -> '/content/nocd/sampler.py'\n",
            "'/content/torch-overlapping-community-detection/nocd/train.py' -> '/content/nocd/train.py'\n",
            "'/content/torch-overlapping-community-detection/nocd/utils.py' -> '/content/nocd/utils.py'\n"
          ]
        }
      ]
    },
    {
      "cell_type": "code",
      "source": [
        "import os\n",
        "import time\n",
        "import nocd\n",
        "import matplotlib.pyplot as plt\n",
        "import numpy as np\n",
        "import scipy.sparse as sp\n",
        "import torch\n",
        "import torch.nn as nn\n",
        "import torch.nn.functional as F\n",
        "from torch_geometric.nn import GAT\n",
        "from torch_geometric.nn import GCN\n",
        "from torch_geometric.nn import GIN\n",
        "from torch_geometric.nn import GraphSAGE\n",
        "from torch_geometric.nn import SignedGCN\n",
        "from torch_geometric.loader import GraphSAINTRandomWalkSampler\n",
        "import time\n",
        "import statistics\n",
        "\n",
        "from sklearn.preprocessing import normalize\n",
        "\n",
        "device = torch.device(\"cuda:0\")\n",
        "torch.set_default_tensor_type(torch.cuda.FloatTensor)"
      ],
      "metadata": {
        "id": "4IxWqM4zy7Zn"
      },
      "execution_count": null,
      "outputs": []
    },
    {
      "cell_type": "code",
      "source": [
        "!cp -va  /content/torch-overlapping-community-detection/data /content"
      ],
      "metadata": {
        "colab": {
          "base_uri": "https://localhost:8080/"
        },
        "id": "VMcwGHgs0kIu",
        "outputId": "6be80e85-602d-44cb-c501-16961c5be78c"
      },
      "execution_count": null,
      "outputs": [
        {
          "output_type": "stream",
          "name": "stdout",
          "text": [
            "'/content/torch-overlapping-community-detection/data' -> '/content/data'\n",
            "'/content/torch-overlapping-community-detection/data/mag_eng.npz' -> '/content/data/mag_eng.npz'\n",
            "'/content/torch-overlapping-community-detection/data/mag_med.npz' -> '/content/data/mag_med.npz'\n",
            "'/content/torch-overlapping-community-detection/data/facebook_ego' -> '/content/data/facebook_ego'\n",
            "'/content/torch-overlapping-community-detection/data/facebook_ego/fb_0.npz' -> '/content/data/facebook_ego/fb_0.npz'\n",
            "'/content/torch-overlapping-community-detection/data/facebook_ego/fb_107.npz' -> '/content/data/facebook_ego/fb_107.npz'\n",
            "'/content/torch-overlapping-community-detection/data/facebook_ego/fb_1684.npz' -> '/content/data/facebook_ego/fb_1684.npz'\n",
            "'/content/torch-overlapping-community-detection/data/facebook_ego/fb_1912.npz' -> '/content/data/facebook_ego/fb_1912.npz'\n",
            "'/content/torch-overlapping-community-detection/data/facebook_ego/fb_3437.npz' -> '/content/data/facebook_ego/fb_3437.npz'\n",
            "'/content/torch-overlapping-community-detection/data/facebook_ego/fb_348.npz' -> '/content/data/facebook_ego/fb_348.npz'\n",
            "'/content/torch-overlapping-community-detection/data/facebook_ego/fb_3980.npz' -> '/content/data/facebook_ego/fb_3980.npz'\n",
            "'/content/torch-overlapping-community-detection/data/facebook_ego/fb_414.npz' -> '/content/data/facebook_ego/fb_414.npz'\n",
            "'/content/torch-overlapping-community-detection/data/facebook_ego/fb_686.npz' -> '/content/data/facebook_ego/fb_686.npz'\n",
            "'/content/torch-overlapping-community-detection/data/facebook_ego/fb_698.npz' -> '/content/data/facebook_ego/fb_698.npz'\n",
            "'/content/torch-overlapping-community-detection/data/mag_chem.npz' -> '/content/data/mag_chem.npz'\n",
            "'/content/torch-overlapping-community-detection/data/mag_cs.npz' -> '/content/data/mag_cs.npz'\n"
          ]
        }
      ]
    },
    {
      "cell_type": "code",
      "source": [
        "\n",
        "# f = 'fb384gatA'\n",
        "# loader = nocd.data.load_dataset('/content/torch-overlapping-community-detection/data/facebook_ego/fb_348.npz')\n",
        "# f = 'fb414gatA'\n",
        "# loader = nocd.data.load_dataset('/content/torch-overlapping-community-detection/data/facebook_ego/fb_414.npz')\n",
        "# f = 'fb686gatA'\n",
        "# loader = nocd.data.load_dataset('/content/torch-overlapping-community-detection/data/facebook_ego/fb_686.npz')\n",
        "f = 'fb698gcnX'\n",
        "loader = nocd.data.load_dataset('/content/torch-overlapping-community-detection/data/facebook_ego/fb_698.npz')\n",
        "# f = 'fb1684gcnA'\n",
        "# loader = nocd.data.load_dataset('/content/torch-overlapping-community-detection/data/facebook_ego/fb_1684.npz')\n",
        "# f = 'fb1912gcnA'\n",
        "# loader = nocd.data.load_dataset('/content/torch-overlapping-community-detection/data/facebook_ego/fb_1912.npz')\n",
        "\n",
        "# f= 'mag_chemgatA'\n",
        "# loader = nocd.data.load_dataset('data/mag_chem.npz')\n",
        "# f= 'mag_csgatX'\n",
        "# loader = nocd.data.load_dataset('data/mag_cs.npz')\n",
        "# f= 'mag_enggatA'\n",
        "# loader = nocd.data.load_dataset('data/mag_eng.npz')\n",
        "# f= 'mag_medgatA'\n",
        "# loader = nocd.data.load_dataset('data/mag_med.npz')\n",
        "\n",
        "A, X, Z_gt = loader['A'], loader['X'], loader['Z']\n",
        "N, K = Z_gt.shape\n",
        "\n",
        "hidden_sizes = [128]    # hidden sizes of the GNN\n",
        "weight_decay = 1e-2     # strength of L2 regularization on GNN weights\n",
        "dropout = 0.5           # whether to use dropout\n",
        "batch_norm = True       # whether to use batch norm\n",
        "lr = 1e-3               # learning rate\n",
        "max_epochs = 500        # number of epochs to train\n",
        "display_step = 25       # how often to compute validation loss\n",
        "balance_loss = True     # whether to use balanced loss\n",
        "stochastic_loss = True  # whether to use stochastic or full-batch training\n",
        "batch_size = 20000      # batch size (only for stochastic training)\n",
        "\n",
        "# batch_size = 20      # batch size (only for stochastic training)\n"
      ],
      "metadata": {
        "id": "LQGr9Tv40zP7"
      },
      "execution_count": null,
      "outputs": []
    },
    {
      "cell_type": "code",
      "source": [
        "# x_norm = normalize(X)  # node features\n",
        "x_norm = normalize(A)  # adjacency matrix\n",
        "# x_norm = sp.hstack([normalize(X), normalize(A)])  # concatenate A and X\n",
        "x_norm = nocd.utils.to_sparse_tensor(x_norm).cuda()\n",
        "sampler = nocd.sampler.get_edge_sampler(A, batch_size, batch_size, num_workers=5)\n",
        "# gnn = nocd.nn.GCN(x_norm.shape[1], hidden_sizes, K, batch_norm=batch_norm, dropout=dropout).cuda()\n",
        "gnn = nocd.nn.GAT(x_norm.shape[1],hidden_sizes,K,batch_norm=batch_norm,dropout=dropout).cuda()\n",
        "adj_norm = gnn.normalize_adj(A)\n",
        "decoder = nocd.nn.BerpoDecoder(N, A.nnz, balance_loss=balance_loss)\n",
        "opt = torch.optim.Adam(gnn.parameters(), lr=lr)"
      ],
      "metadata": {
        "id": "uElEyx8Z027h"
      },
      "execution_count": null,
      "outputs": []
    },
    {
      "cell_type": "code",
      "source": [
        "def get_nmi(thresh=0.5):\n",
        "    \"\"\"Compute Overlapping NMI of the communities predicted by the GNN.\"\"\"\n",
        "    gnn.eval()\n",
        "    # Z = F.relu(gnn(x_norm, adj_norm))\n",
        "    Z = F.leaky_relu(gnn(x_norm, adj_norm))\n",
        "    Z_pred = Z.cpu().detach().numpy() > thresh\n",
        "    nmi = nocd.metrics.overlapping_nmi(Z_pred, Z_gt)\n",
        "    return nmi\n"
      ],
      "metadata": {
        "id": "l_B6bl7i1AOE"
      },
      "execution_count": null,
      "outputs": []
    },
    {
      "cell_type": "code",
      "source": [
        "def train():\n",
        "    val_loss = np.inf\n",
        "    validation_fn = lambda: val_loss\n",
        "    early_stopping = nocd.train.NoImprovementStopping(validation_fn, patience=1)\n",
        "    model_saver = nocd.train.ModelSaver(gnn)\n",
        "    for epoch, batch in enumerate(sampler):\n",
        "        if epoch > max_epochs:\n",
        "            break\n",
        "        if epoch % 25 == 0:\n",
        "            with torch.no_grad():\n",
        "                gnn.eval()\n",
        "                # Compute validation loss\n",
        "                Z = F.relu(gnn(x_norm, adj_norm))\n",
        "                val_loss = decoder.loss_full(Z, A)\n",
        "                print(f'Epoch {epoch:4d}, loss.full = {val_loss:.4f}, nmi = {get_nmi():.2f}')\n",
        "\n",
        "                # Check if it's time for early stopping / to save the model\n",
        "                early_stopping.next_step()\n",
        "                if early_stopping.should_save():\n",
        "                    model_saver.save()\n",
        "                if early_stopping.should_stop():\n",
        "                    print(f'Breaking due to early stopping at epoch {epoch}')\n",
        "                    break\n",
        "\n",
        "        # Training step\n",
        "        gnn.train()\n",
        "        opt.zero_grad()\n",
        "        Z = F.relu(gnn(x_norm, adj_norm))\n",
        "        ones_idx, zeros_idx = batch\n",
        "        if stochastic_loss:\n",
        "            loss = decoder.loss_batch(Z, ones_idx, zeros_idx)\n",
        "        else:\n",
        "            loss = decoder.loss_full(Z, A)\n",
        "        loss += nocd.utils.l2_reg_loss(gnn, scale=weight_decay)\n",
        "        loss.backward()\n",
        "        opt.step()\n",
        "\n",
        "    thresh = 0.5\n",
        "    Z = F.relu(gnn(x_norm, adj_norm))\n",
        "    Z_pred = Z.cpu().detach().numpy() > thresh\n",
        "    model_saver.restore()\n",
        "    nmi = get_nmi(thresh)\n",
        "    print(f'Final nmi = {nmi:.3f}')\n",
        "    return(nmi)\n"
      ],
      "metadata": {
        "id": "molfHn3C1HcY"
      },
      "execution_count": null,
      "outputs": []
    },
    {
      "cell_type": "code",
      "source": [
        "res = []\n",
        "times = []\n",
        "for loops in range(50):\n",
        "    print('loop ', loops)\n",
        "    st = time.time()\n",
        "    nmi = train()\n",
        "    et = time.time()\n",
        "    elapsed_time = et  - st\n",
        "    res.append(nmi)\n",
        "    times.append(elapsed_time)\n",
        "    for layer in gnn.layers:\n",
        "            layer.reset_parameters()\n",
        "    if loops > 2:\n",
        "        avg = statistics.mean(res)\n",
        "        sd = statistics.stdev(res)\n",
        "        avg_time  = statistics.mean(times)\n",
        "        print('average nmi after', loops,'is ', avg)\n",
        "        print('standard deviation  nmi  after', loops,'is ', sd)\n",
        "        print('avrate time   after', loops,'is ', avg_time)\n",
        "        print(f'average_wmi for {f} is: {avg:.3f}, time  is {avg_time:.3f} seconds, deviation is:  {sd:.4f}')\n",
        "\n",
        "print(f'final average_wmi for {f} is: {avg:.3f}, time  is {avg_time:.3f} seconds, deviation is:  {sd:.4f}')\n",
        "resultfile = open('gat_6_heads_with_features.txt', \"a\")\n",
        "resultfile.writelines(f' {f} \\t {avg:.3f} \\t {avg_time:.3f}\\t {sd:.3f} \\n')\n",
        "resultfile.close()\n"
      ],
      "metadata": {
        "colab": {
          "base_uri": "https://localhost:8080/"
        },
        "id": "QeJG5ekB2CV7",
        "outputId": "9bbd56f5-b5ae-4dc2-deea-9f2f968df3ab"
      },
      "execution_count": null,
      "outputs": [
        {
          "output_type": "stream",
          "name": "stdout",
          "text": [
            "loop  0\n",
            "Epoch    0, loss.full = 0.1201, nmi = 0.46\n",
            "Epoch   25, loss.full = 0.1160, nmi = 0.46\n",
            "Epoch   50, loss.full = 0.1256, nmi = 0.45\n",
            "Epoch   75, loss.full = 0.1159, nmi = 0.46\n",
            "Epoch  100, loss.full = 0.1140, nmi = 0.46\n",
            "Epoch  125, loss.full = 0.1142, nmi = 0.46\n",
            "Epoch  150, loss.full = 0.1107, nmi = 0.45\n",
            "Epoch  175, loss.full = 0.1139, nmi = 0.46\n",
            "Epoch  200, loss.full = 0.1104, nmi = 0.45\n",
            "Epoch  225, loss.full = 0.1121, nmi = 0.45\n",
            "Epoch  250, loss.full = 0.1100, nmi = 0.46\n",
            "Epoch  275, loss.full = 0.1095, nmi = 0.46\n",
            "Epoch  300, loss.full = 0.1093, nmi = 0.45\n",
            "Epoch  325, loss.full = 0.1095, nmi = 0.45\n",
            "Epoch  350, loss.full = 0.1120, nmi = 0.45\n",
            "Breaking due to early stopping at epoch 350\n",
            "Final nmi = 0.447\n",
            "loop  1\n",
            "Epoch    0, loss.full = 1.0127, nmi = 0.23\n",
            "Epoch   25, loss.full = 0.2840, nmi = 0.40\n",
            "Epoch   50, loss.full = 0.2240, nmi = 0.44\n",
            "Epoch   75, loss.full = 0.1950, nmi = 0.46\n",
            "Epoch  100, loss.full = 0.1753, nmi = 0.41\n",
            "Epoch  125, loss.full = 0.1540, nmi = 0.42\n",
            "Epoch  150, loss.full = 0.1618, nmi = 0.38\n",
            "Epoch  175, loss.full = 0.1388, nmi = 0.46\n",
            "Epoch  200, loss.full = 0.1233, nmi = 0.47\n",
            "Epoch  225, loss.full = 0.1194, nmi = 0.47\n",
            "Epoch  250, loss.full = 0.1221, nmi = 0.46\n",
            "Epoch  275, loss.full = 0.1159, nmi = 0.48\n",
            "Epoch  300, loss.full = 0.1155, nmi = 0.48\n",
            "Epoch  325, loss.full = 0.1137, nmi = 0.46\n",
            "Epoch  350, loss.full = 0.1146, nmi = 0.46\n",
            "Epoch  375, loss.full = 0.1161, nmi = 0.46\n",
            "Breaking due to early stopping at epoch 375\n",
            "Final nmi = 0.459\n",
            "loop  2\n",
            "Epoch    0, loss.full = 0.8888, nmi = 0.22\n",
            "Epoch   25, loss.full = 0.2797, nmi = 0.42\n",
            "Epoch   50, loss.full = 0.2081, nmi = 0.51\n",
            "Epoch   75, loss.full = 0.1820, nmi = 0.51\n",
            "Epoch  100, loss.full = 0.1641, nmi = 0.46\n",
            "Epoch  125, loss.full = 0.1675, nmi = 0.46\n",
            "Epoch  150, loss.full = 0.1444, nmi = 0.48\n",
            "Epoch  175, loss.full = 0.1269, nmi = 0.46\n",
            "Epoch  200, loss.full = 0.1208, nmi = 0.46\n",
            "Epoch  225, loss.full = 0.1280, nmi = 0.45\n",
            "Epoch  250, loss.full = 0.1135, nmi = 0.46\n",
            "Epoch  275, loss.full = 0.1150, nmi = 0.45\n",
            "Epoch  300, loss.full = 0.1134, nmi = 0.45\n",
            "Epoch  325, loss.full = 0.1128, nmi = 0.45\n",
            "Epoch  350, loss.full = 0.1112, nmi = 0.45\n",
            "Epoch  375, loss.full = 0.1109, nmi = 0.45\n",
            "Epoch  400, loss.full = 0.1133, nmi = 0.45\n",
            "Epoch  425, loss.full = 0.1100, nmi = 0.44\n",
            "Epoch  450, loss.full = 0.1136, nmi = 0.45\n",
            "Epoch  475, loss.full = 0.1143, nmi = 0.45\n",
            "Breaking due to early stopping at epoch 475\n",
            "Final nmi = 0.441\n",
            "loop  3\n",
            "Epoch    0, loss.full = 1.2587, nmi = 0.18\n",
            "Epoch   25, loss.full = 0.2693, nmi = 0.44\n",
            "Epoch   50, loss.full = 0.2043, nmi = 0.44\n",
            "Epoch   75, loss.full = 0.1659, nmi = 0.40\n",
            "Epoch  100, loss.full = 0.1694, nmi = 0.37\n",
            "Epoch  125, loss.full = 0.1634, nmi = 0.39\n",
            "Epoch  150, loss.full = 0.1404, nmi = 0.45\n",
            "Epoch  175, loss.full = 0.1243, nmi = 0.47\n",
            "Epoch  200, loss.full = 0.1243, nmi = 0.47\n",
            "Epoch  225, loss.full = 0.1207, nmi = 0.46\n",
            "Epoch  250, loss.full = 0.1183, nmi = 0.47\n",
            "Epoch  275, loss.full = 0.1186, nmi = 0.46\n",
            "Epoch  300, loss.full = 0.1168, nmi = 0.46\n",
            "Epoch  325, loss.full = 0.1141, nmi = 0.46\n",
            "Epoch  350, loss.full = 0.1167, nmi = 0.46\n",
            "Epoch  375, loss.full = 0.1145, nmi = 0.46\n",
            "Breaking due to early stopping at epoch 375\n",
            "Final nmi = 0.460\n",
            "average nmi after 3 is  0.45177371148181683\n",
            "standard deviation  nmi  after 3 is  0.009242352691282938\n",
            "avrate time   after 3 is  6.186997056007385\n",
            "average_wmi for fb698gcnX is: 0.452, time  is 6.187 seconds, deviation is:  0.0092\n",
            "loop  4\n",
            "Epoch    0, loss.full = 0.8607, nmi = 0.19\n",
            "Epoch   25, loss.full = 0.2769, nmi = 0.42\n",
            "Epoch   50, loss.full = 0.1983, nmi = 0.49\n",
            "Epoch   75, loss.full = 0.2240, nmi = 0.36\n",
            "Epoch  100, loss.full = 0.1828, nmi = 0.42\n",
            "Epoch  125, loss.full = 0.1825, nmi = 0.40\n",
            "Epoch  150, loss.full = 0.1582, nmi = 0.42\n",
            "Epoch  175, loss.full = 0.1464, nmi = 0.42\n",
            "Epoch  200, loss.full = 0.1390, nmi = 0.43\n",
            "Epoch  225, loss.full = 0.1330, nmi = 0.42\n",
            "Epoch  250, loss.full = 0.1249, nmi = 0.45\n",
            "Epoch  275, loss.full = 0.1207, nmi = 0.45\n",
            "Epoch  300, loss.full = 0.1169, nmi = 0.44\n",
            "Epoch  325, loss.full = 0.1189, nmi = 0.45\n",
            "Epoch  350, loss.full = 0.1187, nmi = 0.44\n",
            "Breaking due to early stopping at epoch 350\n",
            "Final nmi = 0.444\n",
            "average nmi after 4 is  0.45019026326257827\n",
            "standard deviation  nmi  after 4 is  0.008752277061862124\n",
            "avrate time   after 4 is  6.289929008483886\n",
            "average_wmi for fb698gcnX is: 0.450, time  is 6.290 seconds, deviation is:  0.0088\n",
            "loop  5\n",
            "Epoch    0, loss.full = 1.3913, nmi = 0.23\n",
            "Epoch   25, loss.full = 0.2501, nmi = 0.42\n",
            "Epoch   50, loss.full = 0.2338, nmi = 0.40\n",
            "Epoch   75, loss.full = 0.1894, nmi = 0.41\n",
            "Epoch  100, loss.full = 0.1807, nmi = 0.40\n",
            "Epoch  125, loss.full = 0.1743, nmi = 0.41\n",
            "Epoch  150, loss.full = 0.1668, nmi = 0.41\n",
            "Epoch  175, loss.full = 0.1602, nmi = 0.44\n",
            "Epoch  200, loss.full = 0.1462, nmi = 0.46\n",
            "Epoch  225, loss.full = 0.1396, nmi = 0.45\n",
            "Epoch  250, loss.full = 0.1345, nmi = 0.50\n",
            "Epoch  275, loss.full = 0.1293, nmi = 0.50\n",
            "Epoch  300, loss.full = 0.1235, nmi = 0.50\n",
            "Epoch  325, loss.full = 0.1190, nmi = 0.48\n",
            "Epoch  350, loss.full = 0.1160, nmi = 0.48\n",
            "Epoch  375, loss.full = 0.1175, nmi = 0.50\n",
            "Epoch  400, loss.full = 0.1174, nmi = 0.48\n",
            "Breaking due to early stopping at epoch 400\n",
            "Final nmi = 0.483\n",
            "average nmi after 5 is  0.4556210181179843\n",
            "standard deviation  nmi  after 5 is  0.015435040421429852\n",
            "avrate time   after 5 is  6.397847135861714\n",
            "average_wmi for fb698gcnX is: 0.456, time  is 6.398 seconds, deviation is:  0.0154\n",
            "loop  6\n",
            "Epoch    0, loss.full = 1.3450, nmi = 0.23\n",
            "Epoch   25, loss.full = 0.2993, nmi = 0.45\n",
            "Epoch   50, loss.full = 0.2030, nmi = 0.44\n",
            "Epoch   75, loss.full = 0.1775, nmi = 0.46\n",
            "Epoch  100, loss.full = 0.1796, nmi = 0.43\n",
            "Epoch  125, loss.full = 0.1726, nmi = 0.42\n",
            "Epoch  150, loss.full = 0.1534, nmi = 0.43\n",
            "Epoch  175, loss.full = 0.1380, nmi = 0.47\n",
            "Epoch  200, loss.full = 0.1308, nmi = 0.46\n",
            "Epoch  225, loss.full = 0.1251, nmi = 0.46\n",
            "Epoch  250, loss.full = 0.1168, nmi = 0.46\n",
            "Epoch  275, loss.full = 0.1138, nmi = 0.46\n",
            "Epoch  300, loss.full = 0.1163, nmi = 0.44\n",
            "Epoch  325, loss.full = 0.1149, nmi = 0.45\n",
            "Breaking due to early stopping at epoch 325\n",
            "Final nmi = 0.459\n",
            "average nmi after 6 is  0.4561064090973472\n",
            "standard deviation  nmi  after 6 is  0.014148602692936604\n",
            "avrate time   after 6 is  6.101650680814471\n",
            "average_wmi for fb698gcnX is: 0.456, time  is 6.102 seconds, deviation is:  0.0141\n",
            "loop  7\n"
          ]
        }
      ]
    }
  ]
}